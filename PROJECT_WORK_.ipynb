{
 "cells": [
  {
   "cell_type": "markdown",
   "metadata": {
    "id": "UW-gRJgFzCYY"
   },
   "source": [
    "## **Exploratory Data Analysis**"
   ]
  },
  {
   "cell_type": "markdown",
   "metadata": {
    "id": "LWd1UlMnhT2s"
   },
   "source": [
    "## **Importing the libraries**"
   ]
  },
  {
   "cell_type": "code",
   "execution_count": null,
   "metadata": {
    "id": "NzK4xPdN7UyJ"
   },
   "outputs": [],
   "source": [
    "import numpy as np\n",
    "import matplotlib.pyplot as plt\n",
    "import pandas as pd\n",
    "import seaborn as sns"
   ]
  },
  {
   "cell_type": "markdown",
   "metadata": {
    "id": "K1VMqkGvhc3-"
   },
   "source": [
    "## **Importing the dataset**"
   ]
  },
  {
   "cell_type": "code",
   "execution_count": null,
   "metadata": {
    "colab": {
     "base_uri": "https://localhost:8080/",
     "height": 691
    },
    "id": "M52QDmyzhh9s",
    "outputId": "f7115a7c-963e-4b13-9df5-77ca388990c3"
   },
   "outputs": [
    {
     "data": {
      "text/html": [
       "<div>\n",
       "<style scoped>\n",
       "    .dataframe tbody tr th:only-of-type {\n",
       "        vertical-align: middle;\n",
       "    }\n",
       "\n",
       "    .dataframe tbody tr th {\n",
       "        vertical-align: top;\n",
       "    }\n",
       "\n",
       "    .dataframe thead th {\n",
       "        text-align: right;\n",
       "    }\n",
       "</style>\n",
       "<table border=\"1\" class=\"dataframe\">\n",
       "  <thead>\n",
       "    <tr style=\"text-align: right;\">\n",
       "      <th></th>\n",
       "      <th>Gender</th>\n",
       "      <th>Age</th>\n",
       "      <th>Pursuing</th>\n",
       "      <th>Stream</th>\n",
       "      <th>Affordable</th>\n",
       "      <th>Connectivity</th>\n",
       "      <th>Instruments</th>\n",
       "      <th>Understanding</th>\n",
       "      <th>Concentration</th>\n",
       "      <th>Preference</th>\n",
       "    </tr>\n",
       "  </thead>\n",
       "  <tbody>\n",
       "    <tr>\n",
       "      <th>0</th>\n",
       "      <td>Female</td>\n",
       "      <td>21</td>\n",
       "      <td>College</td>\n",
       "      <td>Science</td>\n",
       "      <td>Yes</td>\n",
       "      <td>Medium</td>\n",
       "      <td>Good(mobile , laptop and other)</td>\n",
       "      <td>Medium</td>\n",
       "      <td>Medium</td>\n",
       "      <td>Offline Education</td>\n",
       "    </tr>\n",
       "    <tr>\n",
       "      <th>1</th>\n",
       "      <td>Male</td>\n",
       "      <td>22</td>\n",
       "      <td>College</td>\n",
       "      <td>Science</td>\n",
       "      <td>No</td>\n",
       "      <td>High</td>\n",
       "      <td>Good(mobile , laptop and other)</td>\n",
       "      <td>Low</td>\n",
       "      <td>Low</td>\n",
       "      <td>Offline Education</td>\n",
       "    </tr>\n",
       "    <tr>\n",
       "      <th>2</th>\n",
       "      <td>Female</td>\n",
       "      <td>22</td>\n",
       "      <td>College</td>\n",
       "      <td>Science</td>\n",
       "      <td>Yes</td>\n",
       "      <td>Medium</td>\n",
       "      <td>Good(mobile , laptop and other)</td>\n",
       "      <td>Medium</td>\n",
       "      <td>Medium</td>\n",
       "      <td>Online Education</td>\n",
       "    </tr>\n",
       "    <tr>\n",
       "      <th>3</th>\n",
       "      <td>Male</td>\n",
       "      <td>22</td>\n",
       "      <td>College</td>\n",
       "      <td>Science</td>\n",
       "      <td>No</td>\n",
       "      <td>Low</td>\n",
       "      <td>Poor(only mobile)</td>\n",
       "      <td>Low</td>\n",
       "      <td>Low</td>\n",
       "      <td>Offline Education</td>\n",
       "    </tr>\n",
       "    <tr>\n",
       "      <th>4</th>\n",
       "      <td>Female</td>\n",
       "      <td>22</td>\n",
       "      <td>College</td>\n",
       "      <td>Science</td>\n",
       "      <td>Yes</td>\n",
       "      <td>Medium</td>\n",
       "      <td>Good(mobile , laptop and other)</td>\n",
       "      <td>Medium</td>\n",
       "      <td>Medium</td>\n",
       "      <td>Offline Education</td>\n",
       "    </tr>\n",
       "    <tr>\n",
       "      <th>...</th>\n",
       "      <td>...</td>\n",
       "      <td>...</td>\n",
       "      <td>...</td>\n",
       "      <td>...</td>\n",
       "      <td>...</td>\n",
       "      <td>...</td>\n",
       "      <td>...</td>\n",
       "      <td>...</td>\n",
       "      <td>...</td>\n",
       "      <td>...</td>\n",
       "    </tr>\n",
       "    <tr>\n",
       "      <th>495</th>\n",
       "      <td>Male</td>\n",
       "      <td>12</td>\n",
       "      <td>Secondary School</td>\n",
       "      <td>School</td>\n",
       "      <td>Yes</td>\n",
       "      <td>High</td>\n",
       "      <td>Good(mobile , laptop and other)</td>\n",
       "      <td>High</td>\n",
       "      <td>Medium</td>\n",
       "      <td>Online Education</td>\n",
       "    </tr>\n",
       "    <tr>\n",
       "      <th>496</th>\n",
       "      <td>Female</td>\n",
       "      <td>10</td>\n",
       "      <td>Primary School</td>\n",
       "      <td>School</td>\n",
       "      <td>No</td>\n",
       "      <td>Medium</td>\n",
       "      <td>Nothing available</td>\n",
       "      <td>Low</td>\n",
       "      <td>Medium</td>\n",
       "      <td>Offline Education</td>\n",
       "    </tr>\n",
       "    <tr>\n",
       "      <th>497</th>\n",
       "      <td>Male</td>\n",
       "      <td>15</td>\n",
       "      <td>College</td>\n",
       "      <td>Arts</td>\n",
       "      <td>Yes</td>\n",
       "      <td>High</td>\n",
       "      <td>Poor(only mobile)</td>\n",
       "      <td>Medium</td>\n",
       "      <td>High</td>\n",
       "      <td>Online Education</td>\n",
       "    </tr>\n",
       "    <tr>\n",
       "      <th>498</th>\n",
       "      <td>Male</td>\n",
       "      <td>17</td>\n",
       "      <td>Higher- Secondary School</td>\n",
       "      <td>Commerce</td>\n",
       "      <td>Yes</td>\n",
       "      <td>High</td>\n",
       "      <td>Good(mobile , laptop and other)</td>\n",
       "      <td>High</td>\n",
       "      <td>Medium</td>\n",
       "      <td>Online Education</td>\n",
       "    </tr>\n",
       "    <tr>\n",
       "      <th>499</th>\n",
       "      <td>Female</td>\n",
       "      <td>6</td>\n",
       "      <td>Primary School</td>\n",
       "      <td>School</td>\n",
       "      <td>Yes</td>\n",
       "      <td>Medium</td>\n",
       "      <td>Poor(only mobile)</td>\n",
       "      <td>Low</td>\n",
       "      <td>Low</td>\n",
       "      <td>Offline Education</td>\n",
       "    </tr>\n",
       "  </tbody>\n",
       "</table>\n",
       "<p>500 rows × 10 columns</p>\n",
       "</div>"
      ],
      "text/plain": [
       "     Gender  Age  ... Concentration         Preference\n",
       "0    Female   21  ...        Medium  Offline Education\n",
       "1      Male   22  ...           Low  Offline Education\n",
       "2    Female   22  ...        Medium   Online Education\n",
       "3      Male   22  ...           Low  Offline Education\n",
       "4    Female   22  ...        Medium  Offline Education\n",
       "..      ...  ...  ...           ...                ...\n",
       "495    Male   12  ...        Medium   Online Education\n",
       "496  Female   10  ...        Medium  Offline Education\n",
       "497    Male   15  ...          High   Online Education\n",
       "498    Male   17  ...        Medium   Online Education\n",
       "499  Female    6  ...           Low  Offline Education\n",
       "\n",
       "[500 rows x 10 columns]"
      ]
     },
     "execution_count": 171,
     "metadata": {
      "tags": []
     },
     "output_type": "execute_result"
    }
   ],
   "source": [
    "df = pd.DataFrame(pd.read_excel('DATA.xlsx',header = 0))\n",
    "X = df.iloc[:, :-1].values\n",
    "y = df.iloc[:, -1].values\n",
    "df"
   ]
  },
  {
   "cell_type": "code",
   "execution_count": null,
   "metadata": {
    "colab": {
     "base_uri": "https://localhost:8080/"
    },
    "id": "7RgHMe2w1AUV",
    "outputId": "319c8302-4025-4061-e00c-2e65214be4c1"
   },
   "outputs": [
    {
     "data": {
      "text/plain": [
       "(500, 10)"
      ]
     },
     "execution_count": 172,
     "metadata": {
      "tags": []
     },
     "output_type": "execute_result"
    }
   ],
   "source": [
    "df.shape"
   ]
  },
  {
   "cell_type": "code",
   "execution_count": null,
   "metadata": {
    "colab": {
     "base_uri": "https://localhost:8080/"
    },
    "id": "E8y_Wd9XzfIR",
    "outputId": "57a92582-8531-432a-df0d-76b8099948d9"
   },
   "outputs": [
    {
     "name": "stdout",
     "output_type": "stream",
     "text": [
      "<class 'pandas.core.frame.DataFrame'>\n",
      "RangeIndex: 500 entries, 0 to 499\n",
      "Data columns (total 10 columns):\n",
      " #   Column         Non-Null Count  Dtype \n",
      "---  ------         --------------  ----- \n",
      " 0   Gender         500 non-null    object\n",
      " 1   Age            500 non-null    int64 \n",
      " 2   Pursuing       500 non-null    object\n",
      " 3   Stream         500 non-null    object\n",
      " 4   Affordable     500 non-null    object\n",
      " 5   Connectivity   500 non-null    object\n",
      " 6   Instruments    500 non-null    object\n",
      " 7   Understanding  500 non-null    object\n",
      " 8   Concentration  500 non-null    object\n",
      " 9   Preference     500 non-null    object\n",
      "dtypes: int64(1), object(9)\n",
      "memory usage: 39.2+ KB\n"
     ]
    }
   ],
   "source": [
    "df.info()"
   ]
  },
  {
   "cell_type": "code",
   "execution_count": null,
   "metadata": {
    "colab": {
     "base_uri": "https://localhost:8080/"
    },
    "id": "4oP0IUsXk9rD",
    "outputId": "2ebc719b-7497-475e-dab1-8fb15045407d"
   },
   "outputs": [
    {
     "data": {
      "text/plain": [
       "Gender           0\n",
       "Age              0\n",
       "Pursuing         0\n",
       "Stream           0\n",
       "Affordable       0\n",
       "Connectivity     0\n",
       "Instruments      0\n",
       "Understanding    0\n",
       "Concentration    0\n",
       "Preference       0\n",
       "dtype: int64"
      ]
     },
     "execution_count": 174,
     "metadata": {
      "tags": []
     },
     "output_type": "execute_result"
    }
   ],
   "source": [
    "df.isnull().sum()"
   ]
  },
  {
   "cell_type": "code",
   "execution_count": null,
   "metadata": {
    "colab": {
     "base_uri": "https://localhost:8080/",
     "height": 297
    },
    "id": "6OMyXTeSk2bZ",
    "outputId": "9209a3c4-0aab-444c-c450-85fe5b900a4d"
   },
   "outputs": [
    {
     "data": {
      "text/html": [
       "<div>\n",
       "<style scoped>\n",
       "    .dataframe tbody tr th:only-of-type {\n",
       "        vertical-align: middle;\n",
       "    }\n",
       "\n",
       "    .dataframe tbody tr th {\n",
       "        vertical-align: top;\n",
       "    }\n",
       "\n",
       "    .dataframe thead th {\n",
       "        text-align: right;\n",
       "    }\n",
       "</style>\n",
       "<table border=\"1\" class=\"dataframe\">\n",
       "  <thead>\n",
       "    <tr style=\"text-align: right;\">\n",
       "      <th></th>\n",
       "      <th>Age</th>\n",
       "    </tr>\n",
       "  </thead>\n",
       "  <tbody>\n",
       "    <tr>\n",
       "      <th>count</th>\n",
       "      <td>500.00000</td>\n",
       "    </tr>\n",
       "    <tr>\n",
       "      <th>mean</th>\n",
       "      <td>19.14800</td>\n",
       "    </tr>\n",
       "    <tr>\n",
       "      <th>std</th>\n",
       "      <td>3.51551</td>\n",
       "    </tr>\n",
       "    <tr>\n",
       "      <th>min</th>\n",
       "      <td>6.00000</td>\n",
       "    </tr>\n",
       "    <tr>\n",
       "      <th>25%</th>\n",
       "      <td>17.00000</td>\n",
       "    </tr>\n",
       "    <tr>\n",
       "      <th>50%</th>\n",
       "      <td>20.00000</td>\n",
       "    </tr>\n",
       "    <tr>\n",
       "      <th>75%</th>\n",
       "      <td>22.00000</td>\n",
       "    </tr>\n",
       "    <tr>\n",
       "      <th>max</th>\n",
       "      <td>32.00000</td>\n",
       "    </tr>\n",
       "  </tbody>\n",
       "</table>\n",
       "</div>"
      ],
      "text/plain": [
       "             Age\n",
       "count  500.00000\n",
       "mean    19.14800\n",
       "std      3.51551\n",
       "min      6.00000\n",
       "25%     17.00000\n",
       "50%     20.00000\n",
       "75%     22.00000\n",
       "max     32.00000"
      ]
     },
     "execution_count": 175,
     "metadata": {
      "tags": []
     },
     "output_type": "execute_result"
    }
   ],
   "source": [
    "df.describe()"
   ]
  },
  {
   "cell_type": "code",
   "execution_count": null,
   "metadata": {
    "colab": {
     "base_uri": "https://localhost:8080/",
     "height": 296
    },
    "id": "mEbPiN9TlKV5",
    "outputId": "3b2d10e5-e7a0-4233-ab2b-c7291916fa9c"
   },
   "outputs": [
    {
     "data": {
      "text/plain": [
       "<matplotlib.axes._subplots.AxesSubplot at 0x7fbd30bc5810>"
      ]
     },
     "execution_count": 176,
     "metadata": {
      "tags": []
     },
     "output_type": "execute_result"
    },
    {
     "data": {
      "image/png": "[encoded data removed]",
      "text/plain": [
       "<Figure size 432x288 with 1 Axes>"
      ]
     },
     "metadata": {
      "needs_background": "light",
      "tags": []
     },
     "output_type": "display_data"
    }
   ],
   "source": [
    "sns.countplot(x=\"Gender\",data = df)"
   ]
  },
  {
   "cell_type": "code",
   "execution_count": null,
   "metadata": {
    "colab": {
     "base_uri": "https://localhost:8080/",
     "height": 296
    },
    "id": "yZQAdhfRl8ak",
    "outputId": "5d01d619-a96c-4fa2-bbde-95d2cade3549"
   },
   "outputs": [
    {
     "data": {
      "text/plain": [
       "<matplotlib.axes._subplots.AxesSubplot at 0x7fbd30bc5990>"
      ]
     },
     "execution_count": 177,
     "metadata": {
      "tags": []
     },
     "output_type": "execute_result"
    },
    {
     "data": {
      "image/png": "[encoded data removed]",
      "text/plain": [
       "<Figure size 432x288 with 1 Axes>"
      ]
     },
     "metadata": {
      "needs_background": "light",
      "tags": []
     },
     "output_type": "display_data"
    }
   ],
   "source": [
    "sns.countplot(x=\"Gender\",hue=\"Preference\",data = df)"
   ]
  },
  {
   "cell_type": "code",
   "execution_count": null,
   "metadata": {
    "colab": {
     "base_uri": "https://localhost:8080/",
     "height": 386
    },
    "id": "9Jrv0GVviZOG",
    "outputId": "02bc7e64-0c4f-4f74-edc2-c739cad82b58"
   },
   "outputs": [
    {
     "data": {
      "text/plain": [
       "<seaborn.axisgrid.FacetGrid at 0x7fbd30ca0790>"
      ]
     },
     "execution_count": 178,
     "metadata": {
      "tags": []
     },
     "output_type": "execute_result"
    },
    {
     "data": {
      "image/png": "[encoded data removed]",
      "text/plain": [
       "<Figure size 360x360 with 1 Axes>"
      ]
     },
     "metadata": {
      "needs_background": "light",
      "tags": []
     },
     "output_type": "display_data"
    }
   ],
   "source": [
    "sns.displot(x=\"Age\",kde=True,data=df)"
   ]
  },
  {
   "cell_type": "code",
   "execution_count": null,
   "metadata": {
    "colab": {
     "base_uri": "https://localhost:8080/",
     "height": 386
    },
    "id": "D2rdwzIwioNL",
    "outputId": "bf729a2d-7eaa-4013-f9bf-7475526dc3cf"
   },
   "outputs": [
    {
     "data": {
      "text/plain": [
       "<seaborn.axisgrid.FacetGrid at 0x7fbd30ae9b90>"
      ]
     },
     "execution_count": 179,
     "metadata": {
      "tags": []
     },
     "output_type": "execute_result"
    },
    {
     "data": {
      "image/png": "[encoded data removed]",
      "text/plain": [
       "<Figure size 482.125x360 with 1 Axes>"
      ]
     },
     "metadata": {
      "needs_background": "light",
      "tags": []
     },
     "output_type": "display_data"
    }
   ],
   "source": [
    "sns.displot(x=\"Age\",hue=\"Preference\",data=df,bins=10)"
   ]
  },
  {
   "cell_type": "code",
   "execution_count": null,
   "metadata": {
    "colab": {
     "base_uri": "https://localhost:8080/",
     "height": 977
    },
    "id": "7j51JZeg6nNR",
    "outputId": "1119063f-122f-48cc-e06c-12122ac85bb0"
   },
   "outputs": [
    {
     "data": {
      "text/plain": [
       "<seaborn.axisgrid.FacetGrid at 0x7fbd3119e350>"
      ]
     },
     "execution_count": 180,
     "metadata": {
      "tags": []
     },
     "output_type": "execute_result"
    },
    {
     "data": {
      "image/png": "[encoded data removed]",
      "text/plain": [
       "<Figure size 1800x1800 with 23 Axes>"
      ]
     },
     "metadata": {
      "needs_background": "light",
      "tags": []
     },
     "output_type": "display_data"
    }
   ],
   "source": [
    "sns.catplot(x=\"Preference\",data=df,col=\"Age\",kind=\"count\",col_wrap=5)"
   ]
  },
  {
   "cell_type": "code",
   "execution_count": null,
   "metadata": {
    "colab": {
     "base_uri": "https://localhost:8080/",
     "height": 296
    },
    "id": "dhIlnXhF2xz8",
    "outputId": "68be8a5c-0abb-4497-d8e3-89d5e3f4dd89"
   },
   "outputs": [
    {
     "data": {
      "text/plain": [
       "<matplotlib.axes._subplots.AxesSubplot at 0x7fbd30b87450>"
      ]
     },
     "execution_count": 181,
     "metadata": {
      "tags": []
     },
     "output_type": "execute_result"
    },
    {
     "data": {
      "image/png": "[encoded data removed]",
      "text/plain": [
       "<Figure size 432x288 with 1 Axes>"
      ]
     },
     "metadata": {
      "needs_background": "light",
      "tags": []
     },
     "output_type": "display_data"
    }
   ],
   "source": [
    "sns.countplot(x=\"Pursuing\",data=df)"
   ]
  },
  {
   "cell_type": "code",
   "execution_count": null,
   "metadata": {
    "colab": {
     "base_uri": "https://localhost:8080/",
     "height": 296
    },
    "id": "NlFOUYRviyTO",
    "outputId": "dc742abe-a76d-4f6c-9cac-15e2c2347347"
   },
   "outputs": [
    {
     "data": {
      "text/plain": [
       "<matplotlib.axes._subplots.AxesSubplot at 0x7fbd3012d350>"
      ]
     },
     "execution_count": 182,
     "metadata": {
      "tags": []
     },
     "output_type": "execute_result"
    },
    {
     "data": {
      "image/png": "[encoded data removed]",
      "text/plain": [
       "<Figure size 432x288 with 1 Axes>"
      ]
     },
     "metadata": {
      "needs_background": "light",
      "tags": []
     },
     "output_type": "display_data"
    }
   ],
   "source": [
    "sns.countplot(x=\"Pursuing\",hue=\"Preference\",data=df)"
   ]
  },
  {
   "cell_type": "code",
   "execution_count": null,
   "metadata": {
    "colab": {
     "base_uri": "https://localhost:8080/",
     "height": 296
    },
    "id": "r-bRXCGpjJBo",
    "outputId": "2eb4a75c-4086-4c97-8ee7-93bf2793a1c5"
   },
   "outputs": [
    {
     "data": {
      "text/plain": [
       "<matplotlib.axes._subplots.AxesSubplot at 0x7fbd300cf0d0>"
      ]
     },
     "execution_count": 183,
     "metadata": {
      "tags": []
     },
     "output_type": "execute_result"
    },
    {
     "data": {
      "image/png": "[encoded data removed]",
      "text/plain": [
       "<Figure size 432x288 with 1 Axes>"
      ]
     },
     "metadata": {
      "needs_background": "light",
      "tags": []
     },
     "output_type": "display_data"
    }
   ],
   "source": [
    "sns.countplot(x=\"Stream\", data=df)"
   ]
  },
  {
   "cell_type": "code",
   "execution_count": null,
   "metadata": {
    "colab": {
     "base_uri": "https://localhost:8080/",
     "height": 296
    },
    "id": "K0GYXQbK2yCB",
    "outputId": "bea33902-3169-4b28-d4d4-c441362cc6c7"
   },
   "outputs": [
    {
     "data": {
      "text/plain": [
       "<matplotlib.axes._subplots.AxesSubplot at 0x7fbd30087d90>"
      ]
     },
     "execution_count": 184,
     "metadata": {
      "tags": []
     },
     "output_type": "execute_result"
    },
    {
     "data": {
      "image/png": "[encoded data removed]",
      "text/plain": [
       "<Figure size 432x288 with 1 Axes>"
      ]
     },
     "metadata": {
      "needs_background": "light",
      "tags": []
     },
     "output_type": "display_data"
    }
   ],
   "source": [
    "sns.countplot(x=\"Stream\", hue = \"Preference\", data=df)"
   ]
  },
  {
   "cell_type": "code",
   "execution_count": null,
   "metadata": {
    "colab": {
     "base_uri": "https://localhost:8080/",
     "height": 296
    },
    "id": "EygkZA-ojSvu",
    "outputId": "86ec168c-5a3b-41ea-b893-0bb49f3c7baa"
   },
   "outputs": [
    {
     "data": {
      "text/plain": [
       "<matplotlib.axes._subplots.AxesSubplot at 0x7fbd3003af50>"
      ]
     },
     "execution_count": 185,
     "metadata": {
      "tags": []
     },
     "output_type": "execute_result"
    },
    {
     "data": {
      "image/png": "[encoded data removed]",
      "text/plain": [
       "<Figure size 432x288 with 1 Axes>"
      ]
     },
     "metadata": {
      "needs_background": "light",
      "tags": []
     },
     "output_type": "display_data"
    }
   ],
   "source": [
    "sns.countplot(x=\"Affordable\",data=df)"
   ]
  },
  {
   "cell_type": "code",
   "execution_count": null,
   "metadata": {
    "colab": {
     "base_uri": "https://localhost:8080/",
     "height": 296
    },
    "id": "t6sAyhFo2yN0",
    "outputId": "b2a74efb-f5e2-4b62-acc2-7158a8fc09ba"
   },
   "outputs": [
    {
     "data": {
      "text/plain": [
       "<matplotlib.axes._subplots.AxesSubplot at 0x7fbd2ff84210>"
      ]
     },
     "execution_count": 186,
     "metadata": {
      "tags": []
     },
     "output_type": "execute_result"
    },
    {
     "data": {
      "image/png": "[encoded data removed]",
      "text/plain": [
       "<Figure size 432x288 with 1 Axes>"
      ]
     },
     "metadata": {
      "needs_background": "light",
      "tags": []
     },
     "output_type": "display_data"
    }
   ],
   "source": [
    "sns.countplot(x=\"Affordable\",hue = \"Preference\",data=df)"
   ]
  },
  {
   "cell_type": "code",
   "execution_count": null,
   "metadata": {
    "colab": {
     "base_uri": "https://localhost:8080/",
     "height": 296
    },
    "id": "PSJ72a76jjWv",
    "outputId": "0fa2365d-2273-4ce6-8d67-fa320e4a252d"
   },
   "outputs": [
    {
     "data": {
      "text/plain": [
       "<matplotlib.axes._subplots.AxesSubplot at 0x7fbd2ff84c50>"
      ]
     },
     "execution_count": 187,
     "metadata": {
      "tags": []
     },
     "output_type": "execute_result"
    },
    {
     "data": {
      "image/png": "[encoded data removed]",
      "text/plain": [
       "<Figure size 432x288 with 1 Axes>"
      ]
     },
     "metadata": {
      "needs_background": "light",
      "tags": []
     },
     "output_type": "display_data"
    }
   ],
   "source": [
    "sns.countplot(x=\"Connectivity\",data=df)"
   ]
  },
  {
   "cell_type": "code",
   "execution_count": null,
   "metadata": {
    "colab": {
     "base_uri": "https://localhost:8080/",
     "height": 296
    },
    "id": "oAsGCGhS2yak",
    "outputId": "615b8996-1c19-49a0-ec68-2f2f1c667259"
   },
   "outputs": [
    {
     "data": {
      "text/plain": [
       "<matplotlib.axes._subplots.AxesSubplot at 0x7fbd2fef8750>"
      ]
     },
     "execution_count": 188,
     "metadata": {
      "tags": []
     },
     "output_type": "execute_result"
    },
    {
     "data": {
      "image/png": "[encoded data removed]",
      "text/plain": [
       "<Figure size 432x288 with 1 Axes>"
      ]
     },
     "metadata": {
      "needs_background": "light",
      "tags": []
     },
     "output_type": "display_data"
    }
   ],
   "source": [
    "sns.countplot(x=\"Connectivity\",hue = \"Preference\",data=df)"
   ]
  },
  {
   "cell_type": "code",
   "execution_count": null,
   "metadata": {
    "colab": {
     "base_uri": "https://localhost:8080/",
     "height": 296
    },
    "id": "AlY9s_oYjplA",
    "outputId": "f31c0382-ff37-417f-de34-01c4efe26032"
   },
   "outputs": [
    {
     "data": {
      "text/plain": [
       "<matplotlib.axes._subplots.AxesSubplot at 0x7fbd2feb3590>"
      ]
     },
     "execution_count": 189,
     "metadata": {
      "tags": []
     },
     "output_type": "execute_result"
    },
    {
     "data": {
      "image/png": "[encoded data removed]",
      "text/plain": [
       "<Figure size 432x288 with 1 Axes>"
      ]
     },
     "metadata": {
      "needs_background": "light",
      "tags": []
     },
     "output_type": "display_data"
    }
   ],
   "source": [
    "sns.countplot(x=\"Instruments\",data=df)"
   ]
  },
  {
   "cell_type": "code",
   "execution_count": null,
   "metadata": {
    "colab": {
     "base_uri": "https://localhost:8080/",
     "height": 296
    },
    "id": "KTWlJrFM3T66",
    "outputId": "95c893e8-1b79-4924-f072-8f11d4de987e"
   },
   "outputs": [
    {
     "data": {
      "text/plain": [
       "<matplotlib.axes._subplots.AxesSubplot at 0x7fbd2ff00d90>"
      ]
     },
     "execution_count": 190,
     "metadata": {
      "tags": []
     },
     "output_type": "execute_result"
    },
    {
     "data": {
      "image/png": "[encoded data removed]",
      "text/plain": [
       "<Figure size 432x288 with 1 Axes>"
      ]
     },
     "metadata": {
      "needs_background": "light",
      "tags": []
     },
     "output_type": "display_data"
    }
   ],
   "source": [
    "sns.countplot(x=\"Instruments\",hue = \"Preference\",data=df)"
   ]
  },
  {
   "cell_type": "code",
   "execution_count": null,
   "metadata": {
    "colab": {
     "base_uri": "https://localhost:8080/",
     "height": 296
    },
    "id": "2KgC1_sgju7Z",
    "outputId": "e6d5ef53-2434-4f46-c04f-6ac590d00515"
   },
   "outputs": [
    {
     "data": {
      "text/plain": [
       "<matplotlib.axes._subplots.AxesSubplot at 0x7fbd2fd25710>"
      ]
     },
     "execution_count": 191,
     "metadata": {
      "tags": []
     },
     "output_type": "execute_result"
    },
    {
     "data": {
      "image/png": "[encoded data removed]",
      "text/plain": [
       "<Figure size 432x288 with 1 Axes>"
      ]
     },
     "metadata": {
      "needs_background": "light",
      "tags": []
     },
     "output_type": "display_data"
    }
   ],
   "source": [
    "sns.countplot(x=\"Understanding\",hue = \"Preference\",data=df)"
   ]
  },
  {
   "cell_type": "code",
   "execution_count": null,
   "metadata": {
    "colab": {
     "base_uri": "https://localhost:8080/",
     "height": 297
    },
    "id": "k-sIqNeq3fmp",
    "outputId": "e5282031-7e84-4021-ac5e-bd3986f90078"
   },
   "outputs": [
    {
     "data": {
      "text/plain": [
       "<matplotlib.axes._subplots.AxesSubplot at 0x7fbd2fe68a10>"
      ]
     },
     "execution_count": 192,
     "metadata": {
      "tags": []
     },
     "output_type": "execute_result"
    },
    {
     "data": {
      "image/png": "[encoded data removed]",
      "text/plain": [
       "<Figure size 432x288 with 1 Axes>"
      ]
     },
     "metadata": {
      "needs_background": "light",
      "tags": []
     },
     "output_type": "display_data"
    }
   ],
   "source": [
    "sns.countplot(x=\"Concentration\",data=df)"
   ]
  },
  {
   "cell_type": "code",
   "execution_count": null,
   "metadata": {
    "colab": {
     "base_uri": "https://localhost:8080/",
     "height": 298
    },
    "id": "dVu7VVQtj9VE",
    "outputId": "3e96eb2f-6291-4939-8e06-4cffef129752"
   },
   "outputs": [
    {
     "data": {
      "text/plain": [
       "<matplotlib.axes._subplots.AxesSubplot at 0x7fbd2fc98f90>"
      ]
     },
     "execution_count": 193,
     "metadata": {
      "tags": []
     },
     "output_type": "execute_result"
    },
    {
     "data": {
      "image/png": "[encoded data removed]",
      "text/plain": [
       "<Figure size 432x288 with 1 Axes>"
      ]
     },
     "metadata": {
      "needs_background": "light",
      "tags": []
     },
     "output_type": "display_data"
    }
   ],
   "source": [
    "sns.countplot(x=\"Concentration\",hue = \"Preference\",data=df)"
   ]
  },
  {
   "cell_type": "markdown",
   "metadata": {
    "id": "xkCsEtosVyYg"
   },
   "source": [
    "#**Data preprocessing**"
   ]
  },
  {
   "cell_type": "code",
   "execution_count": null,
   "metadata": {
    "id": "uiceScc9lrGP"
   },
   "outputs": [],
   "source": [
    "from sklearn.preprocessing import LabelEncoder\n",
    "\n",
    "Gender = df.Gender\n",
    "Age = df.Age\n",
    "Pursuing = df.Pursuing\n",
    "Stream = df.Stream\n",
    "Affordable = df.Affordable\n",
    "Connectivity = df.Connectivity\n",
    "Instruments = df.Instruments\n",
    "Understanding = df.Understanding\n",
    "Concentration = df.Concentration\n",
    "Preference = df.Preference\n",
    "\n",
    "le = LabelEncoder()\n",
    "\n",
    "Gender_encoded=le.fit_transform(Gender)\n",
    "Pursuing_encoded=le.fit_transform(Pursuing)\n",
    "Stream_encoded=le.fit_transform(Stream)\n",
    "affordable_encoded=le.fit_transform(Affordable)\n",
    "Connectivity_encoded=le.fit_transform(Connectivity)\n",
    "Instruments_encoded=le.fit_transform(Instruments)\n",
    "Understanding_encoded=le.fit_transform(Understanding)\n",
    "Concentration_encoded=le.fit_transform(Concentration)\n",
    "Preference_encoded=le.fit_transform(Preference)"
   ]
  },
  {
   "cell_type": "code",
   "execution_count": null,
   "metadata": {
    "id": "kx6EJYB3l-V7"
   },
   "outputs": [],
   "source": [
    "X =list(zip( Gender_encoded,\n",
    "               Age,\n",
    "               Pursuing_encoded,\n",
    "               Stream_encoded,\n",
    "               Instruments_encoded,\n",
    "               Connectivity_encoded,\n",
    "               Instruments_encoded,\n",
    "               Understanding_encoded,\n",
    "               Concentration_encoded))\n"
   ]
  },
  {
   "cell_type": "code",
   "execution_count": null,
   "metadata": {
    "id": "6gjyiJxsmptA"
   },
   "outputs": [],
   "source": [
    "y = list(Preference_encoded)\n"
   ]
  },
  {
   "cell_type": "markdown",
   "metadata": {
    "id": "Uor8kokM8aeb"
   },
   "source": [
    "### **Spliting the data into training set & Test set**"
   ]
  },
  {
   "cell_type": "code",
   "execution_count": null,
   "metadata": {
    "id": "AVzJWAXIhxoC"
   },
   "outputs": [],
   "source": [
    "from sklearn.model_selection import train_test_split\n",
    "X_train, X_test, y_train, y_test = train_test_split(X, y, test_size = 0.25, random_state = 0)"
   ]
  },
  {
   "cell_type": "code",
   "execution_count": null,
   "metadata": {
    "colab": {
     "base_uri": "https://localhost:8080/"
    },
    "id": "P3nS3-6r1i2B",
    "outputId": "263c9729-3180-4613-ca10-3ec8b84ea8bf"
   },
   "outputs": [
    {
     "name": "stdout",
     "output_type": "stream",
     "text": [
      "[(1, 22, 0, 3, 0, 0, 0, 1, 1), (0, 18, 0, 3, 2, 1, 2, 2, 0), (1, 22, 0, 3, 2, 2, 2, 2, 2), (1, 21, 0, 3, 0, 2, 0, 2, 2), (0, 19, 0, 0, 2, 2, 2, 2, 2), (1, 8, 2, 2, 0, 1, 0, 2, 1), (0, 22, 0, 3, 0, 2, 0, 0, 0), (1, 18, 0, 1, 2, 2, 2, 1, 2), (1, 12, 3, 2, 2, 2, 2, 2, 2), (0, 22, 0, 1, 2, 2, 2, 1, 1), (0, 22, 0, 3, 0, 2, 0, 1, 1), (1, 23, 0, 0, 2, 2, 2, 2, 2), (0, 23, 1, 3, 0, 0, 0, 0, 0), (1, 22, 2, 0, 2, 1, 2, 1, 1), (0, 22, 0, 3, 0, 2, 0, 0, 2), (1, 18, 0, 3, 0, 2, 0, 2, 2), (0, 10, 2, 2, 2, 1, 2, 1, 1), (1, 22, 0, 3, 0, 0, 0, 2, 2), (0, 22, 0, 3, 0, 0, 0, 2, 2), (0, 22, 0, 3, 0, 2, 0, 2, 2), (0, 22, 0, 3, 0, 2, 0, 2, 2), (0, 20, 0, 1, 0, 2, 0, 2, 2), (0, 13, 3, 2, 0, 2, 0, 2, 2), (1, 23, 0, 3, 0, 2, 0, 2, 2), (0, 22, 0, 3, 0, 2, 0, 2, 1), (1, 17, 0, 3, 1, 1, 1, 1, 2), (1, 23, 0, 3, 2, 0, 2, 2, 2), (1, 22, 0, 3, 0, 2, 0, 1, 1), (1, 21, 0, 3, 0, 2, 0, 2, 2), (0, 17, 0, 3, 2, 1, 2, 2, 2), (1, 21, 0, 3, 0, 2, 0, 2, 2), (0, 19, 0, 1, 2, 0, 2, 2, 2), (1, 22, 0, 3, 0, 2, 0, 0, 0), (0, 22, 0, 3, 2, 2, 2, 1, 1), (0, 19, 0, 1, 2, 2, 2, 2, 2), (1, 18, 0, 3, 0, 2, 0, 1, 2), (1, 21, 0, 1, 2, 2, 2, 2, 2), (0, 21, 0, 1, 2, 2, 2, 2, 2), (1, 17, 0, 1, 0, 2, 0, 2, 0), (0, 17, 1, 3, 2, 2, 2, 2, 2), (0, 12, 3, 2, 0, 2, 0, 2, 2), (0, 21, 0, 0, 2, 0, 2, 2, 0), (1, 18, 0, 1, 2, 1, 2, 1, 1), (0, 6, 2, 2, 2, 2, 2, 1, 1), (0, 24, 0, 3, 2, 2, 2, 2, 2), (0, 22, 0, 3, 0, 0, 0, 2, 2), (1, 21, 0, 3, 2, 2, 2, 2, 1), (1, 14, 3, 2, 2, 2, 2, 1, 2), (1, 22, 0, 3, 0, 2, 0, 2, 2), (0, 10, 2, 2, 1, 2, 1, 1, 2), (0, 17, 0, 3, 2, 2, 2, 0, 0), (0, 20, 0, 3, 0, 2, 0, 1, 2), (1, 10, 2, 2, 2, 1, 2, 1, 1), (1, 18, 0, 1, 0, 2, 0, 2, 2), (1, 23, 0, 3, 2, 2, 2, 2, 2), (1, 10, 2, 2, 0, 2, 0, 2, 2), (0, 20, 0, 1, 2, 2, 2, 1, 2), (0, 15, 0, 3, 0, 0, 0, 0, 0), (0, 23, 0, 3, 2, 2, 2, 2, 2), (0, 19, 0, 1, 0, 2, 0, 2, 2), (1, 19, 0, 0, 2, 2, 2, 2, 2), (0, 22, 0, 3, 0, 0, 0, 0, 0), (1, 16, 1, 3, 0, 0, 0, 1, 1), (1, 19, 0, 3, 2, 2, 2, 1, 1), (0, 21, 0, 1, 0, 2, 0, 1, 1), (0, 19, 0, 3, 2, 1, 2, 2, 1), (1, 22, 0, 3, 0, 2, 0, 2, 2), (0, 20, 0, 1, 0, 0, 0, 2, 2), (0, 22, 0, 1, 0, 0, 0, 2, 2), (1, 23, 0, 0, 2, 2, 2, 2, 2), (0, 23, 0, 3, 0, 2, 0, 2, 2), (1, 22, 0, 3, 2, 2, 2, 2, 2), (1, 16, 0, 3, 0, 2, 0, 0, 0), (1, 15, 2, 2, 2, 2, 2, 2, 2), (0, 18, 0, 3, 2, 2, 2, 1, 1), (1, 17, 0, 3, 0, 0, 0, 1, 1), (0, 18, 0, 3, 2, 2, 2, 2, 2), (1, 16, 0, 3, 2, 1, 2, 2, 2), (1, 24, 0, 0, 2, 2, 2, 2, 1), (0, 20, 0, 1, 2, 2, 2, 2, 2), (1, 28, 0, 3, 0, 2, 0, 0, 2), (1, 19, 0, 3, 1, 1, 1, 1, 1), (1, 21, 0, 3, 0, 2, 0, 1, 1), (0, 21, 0, 3, 2, 2, 2, 2, 2), (0, 18, 0, 3, 2, 2, 2, 2, 2), (1, 21, 0, 3, 2, 2, 2, 2, 2), (0, 22, 0, 3, 0, 2, 0, 2, 2), (1, 17, 0, 3, 2, 2, 2, 2, 2), (1, 17, 1, 3, 2, 1, 2, 1, 1), (0, 22, 0, 3, 0, 2, 0, 2, 2), (0, 21, 0, 0, 0, 2, 0, 2, 2), (0, 18, 0, 3, 2, 2, 2, 1, 1), (0, 23, 0, 1, 2, 2, 2, 2, 2), (0, 22, 0, 3, 0, 2, 0, 2, 2), (1, 19, 0, 0, 1, 2, 1, 2, 1), (1, 24, 0, 3, 0, 2, 0, 2, 0), (1, 17, 0, 3, 0, 2, 0, 2, 2), (1, 22, 0, 3, 0, 2, 0, 0, 0), (0, 16, 0, 3, 2, 2, 2, 1, 2), (0, 20, 0, 3, 0, 0, 0, 2, 2), (0, 20, 0, 3, 0, 2, 0, 2, 2), (0, 17, 0, 3, 2, 2, 2, 0, 0), (0, 21, 0, 3, 2, 2, 2, 1, 1), (1, 17, 1, 3, 0, 2, 0, 2, 2), (1, 25, 0, 3, 0, 2, 0, 2, 1), (0, 20, 0, 1, 2, 1, 2, 2, 2), (1, 18, 0, 3, 2, 2, 2, 2, 2), (0, 22, 0, 1, 2, 2, 2, 2, 2), (1, 16, 0, 1, 2, 2, 2, 2, 2), (1, 22, 0, 3, 0, 2, 0, 2, 1), (1, 16, 1, 3, 0, 0, 0, 0, 0), (0, 18, 0, 3, 2, 2, 2, 2, 0), (0, 17, 0, 3, 2, 2, 2, 1, 2), (1, 24, 0, 3, 2, 1, 2, 2, 1), (1, 19, 0, 3, 2, 2, 2, 2, 2), (0, 17, 0, 3, 0, 2, 0, 2, 2), (1, 22, 0, 1, 0, 0, 0, 1, 1), (1, 12, 2, 2, 0, 0, 0, 0, 0), (1, 22, 0, 3, 0, 0, 0, 2, 2), (1, 22, 0, 3, 0, 2, 0, 2, 2), (1, 21, 0, 1, 0, 2, 0, 2, 1), (1, 22, 0, 3, 0, 2, 0, 2, 2), (0, 17, 1, 3, 2, 2, 2, 2, 2), (1, 17, 0, 3, 0, 1, 0, 0, 2), (0, 15, 2, 2, 2, 2, 2, 2, 0), (0, 14, 3, 2, 2, 2, 2, 2, 1), (1, 22, 0, 3, 0, 2, 0, 1, 1), (1, 14, 3, 2, 2, 1, 2, 1, 1), (0, 19, 0, 1, 0, 2, 0, 2, 2), (1, 18, 0, 3, 2, 1, 2, 2, 2), (0, 19, 0, 1, 0, 2, 0, 2, 2), (1, 14, 3, 2, 2, 0, 2, 2, 0), (0, 22, 0, 3, 0, 2, 0, 2, 2), (1, 21, 0, 1, 0, 2, 0, 2, 2), (1, 22, 0, 3, 0, 2, 0, 2, 1), (0, 21, 0, 3, 0, 2, 0, 1, 1), (1, 16, 2, 2, 2, 0, 2, 2, 0), (1, 18, 0, 1, 2, 1, 2, 1, 1), (0, 20, 0, 1, 2, 2, 2, 2, 2), (1, 22, 0, 3, 2, 2, 2, 2, 2), (1, 27, 0, 0, 2, 2, 2, 2, 2), (0, 16, 0, 3, 2, 2, 2, 2, 2), (1, 16, 0, 1, 0, 2, 0, 2, 2), (0, 19, 0, 1, 2, 1, 2, 2, 2), (1, 22, 0, 1, 0, 0, 0, 2, 1), (1, 22, 0, 3, 2, 1, 2, 1, 1), (0, 21, 0, 1, 0, 2, 0, 1, 1), (1, 10, 2, 2, 0, 2, 0, 2, 2), (1, 17, 0, 3, 0, 2, 0, 2, 2), (1, 23, 0, 3, 2, 2, 2, 2, 1), (1, 21, 0, 3, 0, 2, 0, 2, 2), (0, 18, 1, 3, 2, 2, 2, 2, 2), (1, 23, 0, 3, 0, 0, 0, 2, 1), (1, 17, 0, 3, 0, 2, 0, 2, 2), (1, 19, 0, 1, 2, 2, 2, 2, 2), (0, 18, 1, 3, 2, 2, 2, 2, 0), (1, 22, 0, 3, 0, 0, 0, 0, 0), (0, 16, 1, 3, 2, 2, 2, 2, 1), (1, 17, 1, 2, 2, 2, 2, 1, 2), (1, 22, 0, 1, 0, 0, 0, 1, 1), (0, 17, 1, 3, 2, 2, 2, 0, 2), (0, 24, 0, 3, 2, 2, 2, 2, 1), (0, 16, 0, 3, 2, 2, 2, 2, 2), (1, 23, 0, 3, 0, 0, 0, 0, 2), (0, 18, 1, 3, 2, 2, 2, 2, 0), (0, 17, 1, 3, 2, 2, 2, 2, 2), (0, 24, 0, 3, 0, 2, 0, 2, 2), (1, 20, 0, 3, 0, 0, 0, 2, 2), (1, 16, 1, 3, 0, 2, 0, 0, 0), (0, 20, 0, 1, 2, 2, 2, 1, 2), (1, 25, 0, 2, 0, 2, 0, 2, 1), (0, 16, 0, 3, 2, 2, 2, 2, 0), (1, 17, 0, 3, 2, 2, 2, 2, 0), (1, 23, 0, 3, 0, 0, 0, 0, 2), (0, 18, 0, 3, 0, 0, 0, 2, 1), (0, 20, 0, 3, 0, 2, 0, 2, 2), (1, 22, 0, 0, 0, 2, 0, 2, 2), (1, 20, 0, 1, 0, 2, 0, 2, 2), (1, 23, 0, 3, 2, 1, 2, 1, 1), (0, 23, 1, 0, 0, 2, 0, 2, 2), (0, 23, 0, 3, 2, 1, 2, 2, 1), (1, 19, 0, 3, 2, 2, 2, 2, 2), (1, 18, 0, 3, 2, 2, 2, 2, 2), (1, 8, 2, 2, 0, 2, 0, 2, 2), (1, 15, 0, 0, 2, 0, 2, 2, 0), (1, 15, 3, 2, 0, 0, 0, 2, 0), (1, 16, 1, 3, 2, 2, 2, 2, 2), (0, 16, 1, 3, 2, 2, 2, 2, 2), (0, 15, 3, 2, 2, 2, 2, 2, 2), (0, 18, 0, 1, 2, 1, 2, 1, 1), (1, 14, 3, 2, 2, 1, 2, 2, 2), (0, 16, 1, 3, 0, 1, 0, 2, 1), (1, 19, 0, 1, 2, 2, 2, 2, 2), (0, 18, 1, 3, 2, 2, 2, 2, 1), (0, 21, 0, 3, 2, 1, 2, 1, 2), (1, 18, 0, 3, 2, 2, 2, 2, 0), (1, 22, 0, 3, 0, 2, 0, 2, 2), (1, 22, 0, 3, 2, 1, 2, 1, 1), (1, 12, 3, 2, 0, 0, 0, 0, 2), (0, 21, 0, 0, 2, 0, 2, 2, 0), (1, 22, 0, 3, 2, 2, 2, 2, 2), (0, 20, 0, 1, 0, 2, 0, 2, 2), (1, 19, 0, 3, 0, 2, 0, 1, 1), (0, 16, 1, 3, 2, 2, 2, 2, 2), (0, 21, 0, 3, 2, 2, 2, 1, 2), (0, 15, 3, 2, 2, 2, 2, 1, 1), (1, 23, 0, 3, 0, 2, 0, 1, 1), (1, 22, 0, 3, 0, 2, 0, 1, 1), (1, 22, 0, 3, 2, 1, 2, 1, 1), (1, 25, 0, 3, 0, 2, 0, 2, 0), (1, 17, 0, 3, 0, 2, 0, 2, 2), (1, 17, 0, 3, 2, 2, 2, 2, 2), (1, 16, 0, 3, 2, 1, 2, 2, 1), (0, 18, 1, 3, 2, 1, 2, 2, 2), (0, 24, 0, 3, 2, 2, 2, 2, 0), (0, 22, 0, 3, 0, 0, 0, 2, 2), (0, 22, 0, 3, 0, 0, 0, 0, 0), (0, 21, 0, 3, 0, 2, 0, 2, 2), (0, 22, 0, 3, 2, 2, 2, 2, 0), (1, 17, 1, 3, 2, 2, 2, 1, 1), (1, 17, 1, 3, 2, 2, 2, 2, 2), (1, 22, 0, 3, 0, 2, 0, 2, 2), (1, 17, 0, 3, 2, 2, 2, 0, 2), (0, 17, 0, 1, 2, 1, 2, 1, 1), (0, 22, 0, 3, 0, 2, 0, 1, 1), (1, 19, 0, 3, 0, 2, 0, 0, 2), (1, 22, 0, 3, 2, 2, 2, 2, 2), (0, 19, 0, 1, 0, 2, 0, 2, 2), (0, 17, 0, 3, 0, 1, 0, 1, 1), (0, 16, 0, 3, 2, 2, 2, 1, 2), (1, 14, 3, 2, 2, 2, 2, 2, 2), (1, 17, 0, 1, 0, 2, 0, 2, 1), (1, 16, 3, 3, 0, 2, 0, 2, 2), (0, 15, 0, 3, 2, 2, 2, 2, 2), (0, 12, 3, 2, 2, 1, 2, 1, 1), (0, 25, 0, 3, 2, 2, 2, 2, 1), (1, 23, 0, 3, 0, 0, 0, 2, 2), (1, 20, 0, 1, 2, 2, 2, 1, 1), (0, 17, 0, 1, 2, 1, 2, 1, 1), (0, 17, 1, 3, 0, 0, 0, 2, 2), (1, 22, 0, 3, 2, 1, 2, 2, 0), (1, 22, 0, 3, 2, 1, 2, 1, 1), (1, 22, 0, 3, 2, 2, 2, 1, 1), (0, 18, 0, 3, 2, 2, 2, 0, 0), (0, 17, 0, 3, 2, 1, 2, 2, 2), (0, 19, 0, 1, 2, 2, 2, 2, 2), (1, 14, 3, 2, 2, 1, 2, 2, 1), (0, 16, 0, 3, 2, 2, 2, 2, 2), (0, 21, 0, 3, 0, 2, 0, 2, 2), (0, 20, 0, 3, 0, 0, 0, 1, 1), (1, 22, 1, 3, 0, 2, 0, 2, 2), (0, 21, 0, 1, 2, 1, 2, 1, 1), (0, 19, 0, 1, 2, 2, 2, 2, 2), (0, 8, 2, 2, 2, 0, 2, 2, 2), (1, 19, 0, 1, 0, 1, 0, 1, 1), (0, 22, 0, 3, 0, 2, 0, 2, 2), (0, 21, 0, 3, 2, 2, 2, 2, 2), (1, 21, 0, 3, 2, 1, 2, 1, 1), (0, 23, 0, 3, 2, 2, 2, 1, 1), (0, 18, 0, 1, 2, 0, 2, 2, 1), (1, 14, 1, 2, 2, 2, 2, 1, 1), (0, 18, 0, 1, 2, 0, 2, 2, 1), (0, 17, 0, 3, 2, 0, 2, 0, 0), (1, 22, 0, 3, 0, 0, 0, 0, 0), (0, 17, 0, 3, 0, 2, 0, 2, 2), (1, 21, 0, 1, 2, 2, 2, 2, 2), (1, 15, 3, 2, 2, 2, 2, 2, 2), (0, 23, 0, 3, 0, 2, 0, 2, 2), (1, 23, 0, 3, 0, 2, 0, 2, 2), (0, 22, 0, 3, 0, 2, 0, 2, 2), (0, 19, 0, 3, 0, 2, 0, 2, 2), (1, 22, 0, 3, 0, 2, 0, 2, 2), (1, 18, 1, 3, 2, 2, 2, 1, 2), (0, 22, 0, 3, 2, 2, 2, 1, 1), (0, 13, 3, 2, 0, 2, 0, 2, 2), (0, 17, 1, 3, 2, 2, 2, 2, 2), (1, 23, 0, 3, 0, 2, 0, 2, 0), (0, 32, 0, 1, 0, 2, 0, 0, 0), (1, 14, 1, 2, 2, 1, 2, 2, 2), (1, 17, 1, 1, 0, 0, 0, 0, 2), (1, 16, 1, 3, 0, 2, 0, 1, 1), (1, 19, 1, 3, 2, 2, 2, 1, 1), (1, 20, 1, 1, 2, 2, 2, 2, 0), (0, 14, 1, 2, 0, 2, 0, 2, 2), (1, 16, 0, 1, 2, 2, 2, 2, 2), (0, 22, 0, 3, 0, 2, 0, 2, 2), (0, 16, 1, 3, 2, 2, 2, 2, 2), (0, 23, 0, 3, 2, 2, 2, 2, 2), (0, 20, 0, 3, 2, 2, 2, 2, 2), (0, 21, 0, 3, 0, 2, 0, 2, 2), (1, 16, 0, 3, 0, 2, 0, 0, 0), (0, 8, 2, 2, 0, 2, 0, 2, 2), (1, 15, 1, 2, 2, 0, 2, 0, 0), (1, 17, 0, 3, 2, 2, 2, 2, 2), (1, 21, 0, 3, 0, 2, 0, 2, 2), (1, 23, 0, 3, 2, 0, 2, 0, 2), (0, 18, 0, 1, 0, 2, 0, 2, 2), (1, 19, 0, 1, 0, 0, 0, 2, 2), (1, 19, 0, 3, 2, 1, 2, 1, 1), (1, 22, 0, 3, 0, 2, 0, 2, 1), (0, 17, 0, 0, 2, 2, 2, 2, 2), (1, 16, 1, 3, 0, 2, 0, 2, 0), (0, 17, 0, 3, 2, 2, 2, 1, 1), (1, 23, 0, 3, 0, 0, 0, 2, 2), (0, 20, 0, 3, 2, 2, 2, 1, 1), (1, 23, 0, 3, 0, 2, 0, 2, 2), (0, 18, 0, 1, 2, 2, 2, 0, 2), (0, 19, 0, 1, 2, 2, 2, 2, 2), (1, 22, 0, 1, 2, 2, 2, 0, 0), (0, 19, 0, 1, 2, 2, 2, 2, 2), (0, 20, 0, 1, 2, 2, 2, 2, 2), (1, 16, 3, 3, 2, 1, 2, 1, 1), (0, 25, 0, 3, 2, 1, 2, 1, 2), (1, 22, 0, 3, 0, 2, 0, 0, 0), (0, 21, 0, 3, 2, 2, 2, 2, 2), (0, 23, 0, 3, 0, 2, 0, 2, 2), (1, 22, 0, 0, 0, 0, 0, 0, 0), (0, 22, 0, 3, 0, 0, 0, 2, 1), (1, 16, 0, 3, 0, 2, 0, 2, 0), (1, 23, 0, 3, 2, 2, 2, 2, 2), (1, 22, 0, 3, 0, 2, 0, 1, 2), (1, 18, 0, 1, 2, 2, 2, 2, 2), (0, 15, 2, 2, 2, 2, 2, 2, 0), (0, 16, 0, 3, 2, 2, 2, 2, 2), (1, 16, 0, 3, 2, 2, 2, 2, 2), (0, 23, 0, 3, 2, 2, 2, 2, 2), (1, 22, 0, 3, 0, 2, 0, 2, 2), (1, 16, 0, 3, 2, 2, 2, 2, 2), (0, 21, 0, 3, 0, 2, 0, 2, 2), (1, 21, 0, 1, 2, 2, 2, 2, 2), (0, 21, 0, 0, 2, 2, 2, 2, 2), (1, 18, 0, 3, 0, 2, 0, 2, 1), (1, 19, 0, 3, 2, 1, 2, 2, 2), (0, 17, 1, 3, 2, 2, 2, 1, 1), (1, 21, 0, 3, 2, 2, 2, 2, 1), (0, 17, 0, 3, 0, 0, 0, 2, 2), (1, 20, 0, 3, 0, 2, 0, 2, 2), (0, 16, 0, 3, 0, 2, 0, 2, 2), (0, 24, 0, 3, 2, 2, 2, 2, 2), (1, 22, 0, 3, 2, 2, 2, 1, 1), (0, 16, 1, 3, 2, 2, 2, 1, 2), (1, 19, 0, 3, 0, 2, 0, 2, 2), (1, 12, 3, 2, 2, 0, 2, 2, 2), (0, 17, 0, 3, 2, 2, 2, 2, 2), (0, 21, 0, 3, 0, 2, 0, 1, 2), (0, 21, 0, 3, 0, 2, 0, 2, 2), (0, 22, 0, 3, 0, 0, 0, 2, 2), (0, 21, 0, 0, 1, 0, 1, 1, 1), (0, 19, 0, 1, 0, 2, 0, 2, 2), (0, 20, 0, 1, 2, 2, 2, 2, 2), (0, 28, 0, 3, 0, 0, 0, 2, 2), (0, 21, 0, 3, 0, 2, 0, 2, 2), (1, 23, 0, 3, 0, 2, 0, 0, 0), (0, 24, 0, 3, 2, 2, 2, 2, 2), (0, 17, 0, 3, 2, 2, 2, 2, 2), (1, 18, 0, 3, 2, 2, 2, 2, 2), (0, 22, 0, 3, 2, 0, 2, 0, 2), (1, 21, 0, 3, 0, 0, 0, 2, 2), (1, 17, 0, 3, 2, 1, 2, 1, 2), (1, 21, 0, 3, 0, 2, 0, 2, 2), (0, 21, 0, 3, 2, 2, 2, 2, 2), (0, 20, 0, 1, 0, 2, 0, 1, 1), (0, 19, 0, 3, 2, 0, 2, 0, 0), (1, 18, 0, 3, 0, 2, 0, 0, 0), (1, 18, 0, 3, 2, 2, 2, 2, 2), (1, 17, 0, 3, 2, 1, 2, 2, 2), (1, 20, 0, 3, 2, 2, 2, 1, 2), (1, 22, 0, 3, 2, 2, 2, 1, 1), (1, 21, 0, 3, 0, 0, 0, 2, 2), (1, 18, 0, 3, 2, 2, 2, 1, 1), (0, 23, 0, 3, 0, 1, 0, 2, 1), (1, 21, 0, 3, 2, 1, 2, 2, 2), (0, 17, 0, 3, 0, 2, 0, 0, 0), (1, 15, 0, 3, 2, 2, 2, 1, 1), (0, 20, 0, 3, 0, 2, 0, 2, 2)]\n"
     ]
    }
   ],
   "source": [
    "print(X_train)"
   ]
  },
  {
   "cell_type": "code",
   "execution_count": null,
   "metadata": {
    "colab": {
     "base_uri": "https://localhost:8080/"
    },
    "id": "8dpDLojm1mVG",
    "outputId": "6fbac59e-134d-4c93-f54e-e145150df391"
   },
   "outputs": [
    {
     "name": "stdout",
     "output_type": "stream",
     "text": [
      "[0, 0, 0, 1, 0, 0, 1, 0, 1, 0, 0, 1, 1, 0, 1, 0, 0, 1, 0, 0, 0, 0, 0, 1, 0, 0, 0, 0, 0, 0, 1, 0, 0, 0, 0, 0, 0, 0, 0, 0, 0, 1, 0, 0, 0, 0, 0, 0, 0, 0, 1, 0, 0, 0, 0, 0, 0, 0, 0, 0, 0, 1, 0, 0, 0, 0, 0, 0, 0, 1, 0, 1, 1, 0, 0, 0, 0, 0, 0, 0, 1, 0, 1, 0, 0, 0, 0, 0, 0, 1, 1, 0, 0, 0, 0, 1, 0, 1, 0, 0, 0, 0, 0, 0, 0, 0, 0, 0, 0, 0, 1, 0, 0, 0, 0, 0, 1, 0, 1, 0, 0, 0, 0, 0, 0, 0, 0, 0, 0, 0, 0, 0, 0, 1, 0, 0, 0, 0, 0, 0, 1, 0, 1, 0, 0, 0, 0, 0, 0, 0, 0, 0, 0, 0, 0, 1, 1, 0, 0, 0, 1, 0, 0, 1, 1, 0, 0, 0, 1, 0, 0, 0, 0, 0, 0, 0, 1, 0, 0, 0, 0, 0, 0, 0, 1, 1, 0, 0, 0, 0, 0, 0, 0, 0, 0, 0, 1, 0, 1, 1, 0, 0, 0, 1, 0, 0, 0, 0, 0, 0, 0, 0, 0, 0, 0, 0, 1, 0, 1, 0, 0, 0, 0, 0, 0, 1, 0, 0, 0, 0, 0, 0, 0, 0, 0, 0, 0, 0, 0, 0, 1, 0, 0, 0, 0, 0, 0, 0, 0, 0, 0, 0, 0, 0, 0, 0, 0, 1, 0, 0, 1, 0, 1, 0, 0, 0, 0, 0, 1, 0, 0, 0, 0, 0, 0, 0, 1, 0, 1, 1, 0, 0, 1, 0, 0, 0, 0, 1, 0, 0, 1, 0, 1, 0, 0, 1, 0, 1, 0, 0, 0, 0, 0, 0, 0, 1, 0, 0, 1, 0, 0, 0, 0, 1, 0, 1, 1, 0, 0, 1, 0, 0, 0, 0, 0, 0, 0, 0, 0, 0, 0, 0, 0, 0, 0, 0, 0, 0, 0, 0, 0, 0, 1, 0, 0, 1, 1, 1, 0, 0, 1, 0, 0, 0, 0, 0, 1, 0, 0, 0, 0, 0, 1, 1, 1, 1, 0, 0, 1, 0, 0, 0, 1, 0, 0]\n"
     ]
    }
   ],
   "source": [
    "print(y_train)"
   ]
  },
  {
   "cell_type": "markdown",
   "metadata": {
    "id": "kW3c7UYih0hT"
   },
   "source": [
    "### **Feature Scaling**"
   ]
  },
  {
   "cell_type": "code",
   "execution_count": null,
   "metadata": {
    "id": "9fQlDPKCh8sc"
   },
   "outputs": [],
   "source": [
    "from sklearn.preprocessing import StandardScaler\n",
    "sc = StandardScaler()\n",
    "X_train = sc.fit_transform(X_train)\n",
    "X_test = sc.transform(X_test)"
   ]
  },
  {
   "cell_type": "code",
   "execution_count": null,
   "metadata": {
    "colab": {
     "base_uri": "https://localhost:8080/"
    },
    "id": "syrnD1Op2BSR",
    "outputId": "bd70b0fc-bbe5-49f3-d4a2-a239a0f7b4af"
   },
   "outputs": [
    {
     "name": "stdout",
     "output_type": "stream",
     "text": [
      "[[ 0.97108454  0.80026048 -0.44227621 ... -1.09081635 -0.82170189\n",
      "  -0.63619281]\n",
      " [-1.02977646 -0.35396137 -0.44227621 ...  0.92921393  0.6526436\n",
      "  -2.01522348]\n",
      " [ 0.97108454  0.80026048 -0.44227621 ...  0.92921393  0.6526436\n",
      "   0.74283785]\n",
      " ...\n",
      " [-1.02977646 -0.64251683 -0.44227621 ... -1.09081635 -2.29604738\n",
      "  -2.01522348]\n",
      " [ 0.97108454 -1.21962775 -0.44227621 ...  0.92921393 -0.82170189\n",
      "  -0.63619281]\n",
      " [-1.02977646  0.22314956 -0.44227621 ... -1.09081635  0.6526436\n",
      "   0.74283785]]\n"
     ]
    }
   ],
   "source": [
    "print(X_train)"
   ]
  },
  {
   "cell_type": "code",
   "execution_count": null,
   "metadata": {
    "colab": {
     "base_uri": "https://localhost:8080/"
    },
    "id": "JUd6iBRp2C3L",
    "outputId": "85a46edf-588d-4364-c678-65aac808a6db"
   },
   "outputs": [
    {
     "name": "stdout",
     "output_type": "stream",
     "text": [
      "[[-1.02977646 -0.64251683 -0.44227621 ...  0.92921393 -0.82170189\n",
      "   0.74283785]\n",
      " [ 0.97108454  1.08881594 -0.44227621 ...  0.92921393  0.6526436\n",
      "   0.74283785]\n",
      " [-1.02977646  0.51170502 -0.44227621 ...  0.92921393  0.6526436\n",
      "  -0.63619281]\n",
      " ...\n",
      " [ 0.97108454 -1.79673868  3.3271233  ...  0.92921393  0.6526436\n",
      "   0.74283785]\n",
      " [-1.02977646  0.80026048 -0.44227621 ...  0.92921393 -0.82170189\n",
      "  -0.63619281]\n",
      " [-1.02977646  0.22314956 -0.44227621 ...  0.92921393  0.6526436\n",
      "   0.74283785]]\n"
     ]
    }
   ],
   "source": [
    "print(X_test)"
   ]
  },
  {
   "cell_type": "markdown",
   "metadata": {
    "id": "bb6jCOCQiAmP"
   },
   "source": [
    "### **1.Logistic Regression** "
   ]
  },
  {
   "cell_type": "code",
   "execution_count": null,
   "metadata": {
    "colab": {
     "base_uri": "https://localhost:8080/"
    },
    "id": "e0pFVAmciHQs",
    "outputId": "74b6ed3d-f262-4555-ad89-365d13f02c76"
   },
   "outputs": [
    {
     "data": {
      "text/plain": [
       "LogisticRegression(C=1.0, class_weight=None, dual=False, fit_intercept=True,\n",
       "                   intercept_scaling=1, l1_ratio=None, max_iter=100,\n",
       "                   multi_class='auto', n_jobs=None, penalty='l2',\n",
       "                   random_state=0, solver='lbfgs', tol=0.0001, verbose=0,\n",
       "                   warm_start=False)"
      ]
     },
     "execution_count": 276,
     "metadata": {
      "tags": []
     },
     "output_type": "execute_result"
    }
   ],
   "source": [
    "from sklearn.linear_model import LogisticRegression\n",
    "# define the model\n",
    "classifier1 = LogisticRegression(random_state = 0)\n",
    "# fit the model\n",
    "classifier1.fit(X_train, y_train)"
   ]
  },
  {
   "cell_type": "markdown",
   "metadata": {
    "id": "vKYVQH-l5NpE"
   },
   "source": [
    " **Predicting the Test set results**"
   ]
  },
  {
   "cell_type": "code",
   "execution_count": null,
   "metadata": {
    "colab": {
     "base_uri": "https://localhost:8080/"
    },
    "id": "p6VMTb2O4hwM",
    "outputId": "847e7a90-1cfa-4b24-b532-d76f8bf5e3eb"
   },
   "outputs": [
    {
     "name": "stdout",
     "output_type": "stream",
     "text": [
      "[0 0 0 0 0 0 0 0 0 0 0 0 0 0 0 0 0 0 0 0 0 0 0 0 0 0 0 0 0 0 0 0 0 0 0 0 0\n",
      " 0 0 0 0 0 0 0 0 1 0 0 0 0 1 0 0 0 0 0 0 0 0 0 0 0 0 0 0 0 0 0 0 0 0 0 0 0\n",
      " 0 0 0 0 0 0 0 0 0 0 0 0 0 0 0 0 0 0 0 0 0 0 0 0 0 0 1 0 0 0 0 0 0 0 0 0 0\n",
      " 0 0 0 0 0 0 0 0 0 0 0 0 0 0]\n"
     ]
    }
   ],
   "source": [
    "y_pred1 = classifier1.predict(X_test)\n",
    "print(y_pred1)"
   ]
  },
  {
   "cell_type": "markdown",
   "metadata": {
    "id": "h4Hwj34ziWQW"
   },
   "source": [
    "**Making the Confusion Matrix**"
   ]
  },
  {
   "cell_type": "code",
   "execution_count": null,
   "metadata": {
    "colab": {
     "base_uri": "https://localhost:8080/"
    },
    "id": "2HbHVE4zYRDs",
    "outputId": "496cb11a-710c-4c82-8259-1c235ffc3047"
   },
   "outputs": [
    {
     "name": "stdout",
     "output_type": "stream",
     "text": [
      "Confusion Matrix:\n",
      "[[103   3]\n",
      " [ 19   0]]\n",
      "Classification Report:\n",
      "               precision    recall  f1-score   support\n",
      "\n",
      "           0       0.84      0.97      0.90       106\n",
      "           1       0.00      0.00      0.00        19\n",
      "\n",
      "    accuracy                           0.82       125\n",
      "   macro avg       0.42      0.49      0.45       125\n",
      "weighted avg       0.72      0.82      0.77       125\n",
      "\n",
      "Accuracy: 0.824\n"
     ]
    }
   ],
   "source": [
    "from sklearn.metrics import confusion_matrix, accuracy_score,classification_report,precision_recall_fscore_support\n",
    "cm = confusion_matrix(y_test, y_pred1)\n",
    "print(\"Confusion Matrix:\")\n",
    "print(cm)\n",
    "\n",
    "result1 = classification_report(y_test, y_pred1)\n",
    "print(\"Classification Report:\\n\",result1)\n",
    "\n",
    "a1=accuracy_score(y_test, y_pred1)\n",
    "print(\"Accuracy:\",a1)"
   ]
  },
  {
   "cell_type": "markdown",
   "metadata": {
    "id": "NM4JeKxVxwyg"
   },
   "source": [
    "**Applying cross validation**"
   ]
  },
  {
   "cell_type": "code",
   "execution_count": null,
   "metadata": {
    "colab": {
     "base_uri": "https://localhost:8080/"
    },
    "id": "LH55Z_Sjx4eG",
    "outputId": "9687d8a2-caa0-4288-a760-3901761f4287"
   },
   "outputs": [
    {
     "name": "stdout",
     "output_type": "stream",
     "text": [
      "Accuracy: 81.71 %\n",
      "Standard Deviation: 10.45 %\n"
     ]
    }
   ],
   "source": [
    "from sklearn.model_selection import cross_val_score\n",
    "accuracies = cross_val_score(estimator = classifier1 ,X=X_train, y=y_train,cv = 50)\n",
    "print(\"Accuracy: {:.2f} %\".format(accuracies.mean()*100))\n",
    "print(\"Standard Deviation: {:.2f} %\".format(accuracies.std()*100))"
   ]
  },
  {
   "cell_type": "markdown",
   "metadata": {
    "id": "foMwkTNeQ16l"
   },
   "source": [
    "**Feature importance graph**"
   ]
  },
  {
   "cell_type": "code",
   "execution_count": null,
   "metadata": {
    "colab": {
     "base_uri": "https://localhost:8080/",
     "height": 428
    },
    "id": "AOM-S2_qMTfi",
    "outputId": "a79fc6dc-5789-45a8-bbfc-adf1a6c06149"
   },
   "outputs": [
    {
     "name": "stdout",
     "output_type": "stream",
     "text": [
      "Feature: 0, Score: 0.33429\n",
      "Feature: 1, Score: 0.45717\n",
      "Feature: 2, Score: 0.16844\n",
      "Feature: 3, Score: -0.21276\n",
      "Feature: 4, Score: -0.11020\n",
      "Feature: 5, Score: -0.31146\n",
      "Feature: 6, Score: -0.11020\n",
      "Feature: 7, Score: -0.42900\n",
      "Feature: 8, Score: -0.26880\n"
     ]
    },
    {
     "data": {
      "image/png": "[encoded data removed]",
      "text/plain": [
       "<Figure size 432x288 with 1 Axes>"
      ]
     },
     "metadata": {
      "needs_background": "light",
      "tags": []
     },
     "output_type": "display_data"
    }
   ],
   "source": [
    "from sklearn.datasets import make_classification\n",
    "from matplotlib import pyplot\n",
    "# get importance\n",
    "importance = classifier1.coef_[0]\n",
    "# summarize feature importance\n",
    "for i,v in enumerate(importance):\n",
    "\tprint('Feature: %0d, Score: %.5f' % (i,v))\n",
    "# plot feature importance\n",
    "pyplot.bar([x for x in range(len(importance))], importance)\n",
    "pyplot.show()"
   ]
  },
  {
   "cell_type": "markdown",
   "metadata": {
    "id": "5J-EDvjr9fQt"
   },
   "source": [
    "### **2.KNN**"
   ]
  },
  {
   "cell_type": "code",
   "execution_count": null,
   "metadata": {
    "colab": {
     "base_uri": "https://localhost:8080/"
    },
    "id": "e4PZAUCBW__B",
    "outputId": "d6a637f7-481a-4429-9e9b-5700b9813d3d"
   },
   "outputs": [
    {
     "data": {
      "text/plain": [
       "KNeighborsClassifier(algorithm='auto', leaf_size=30, metric='minkowski',\n",
       "                     metric_params=None, n_jobs=None, n_neighbors=5, p=2,\n",
       "                     weights='uniform')"
      ]
     },
     "execution_count": 207,
     "metadata": {
      "tags": []
     },
     "output_type": "execute_result"
    }
   ],
   "source": [
    "from sklearn.neighbors import KNeighborsClassifier\n",
    "classifier2 = KNeighborsClassifier(n_neighbors= 5,metric='minkowski',p=2)\n",
    "classifier2.fit(X_train, y_train)"
   ]
  },
  {
   "cell_type": "markdown",
   "metadata": {
    "id": "ok6v63QOe-GS"
   },
   "source": [
    " **Predicting the Test set results**"
   ]
  },
  {
   "cell_type": "code",
   "execution_count": null,
   "metadata": {
    "colab": {
     "base_uri": "https://localhost:8080/"
    },
    "id": "dZoJFxOjZuVB",
    "outputId": "d28c8d64-f267-4fb4-acd8-f0c6bfffcd10"
   },
   "outputs": [
    {
     "data": {
      "text/plain": [
       "array([0, 0, 0, 0, 0, 0, 0, 0, 0, 0, 0, 0, 0, 0, 0, 0, 0, 0, 0, 0, 0, 0,\n",
       "       0, 0, 0, 0, 0, 0, 0, 0, 0, 0, 0, 0, 0, 0, 0, 0, 1, 0, 0, 0, 0, 0,\n",
       "       0, 0, 0, 0, 0, 0, 0, 0, 0, 0, 0, 0, 0, 0, 0, 0, 0, 0, 0, 0, 0, 0,\n",
       "       0, 0, 0, 0, 0, 0, 0, 0, 0, 0, 0, 0, 0, 0, 0, 0, 0, 0, 0, 0, 0, 0,\n",
       "       0, 0, 0, 1, 0, 0, 0, 0, 0, 0, 0, 0, 0, 0, 0, 0, 0, 0, 0, 0, 0, 0,\n",
       "       0, 0, 0, 0, 0, 0, 0, 0, 0, 0, 0, 0, 0, 0, 0])"
      ]
     },
     "execution_count": 208,
     "metadata": {
      "tags": []
     },
     "output_type": "execute_result"
    }
   ],
   "source": [
    "y_pred2 = classifier2.predict(X_test)\n",
    "y_pred2"
   ]
  },
  {
   "cell_type": "markdown",
   "metadata": {
    "id": "O-5Cy4eGfF-R"
   },
   "source": [
    "**Making the Confusion Matrix**"
   ]
  },
  {
   "cell_type": "code",
   "execution_count": null,
   "metadata": {
    "colab": {
     "base_uri": "https://localhost:8080/"
    },
    "id": "X9G6xR6LbxLz",
    "outputId": "744ec647-2ebe-4dd4-c629-fe0efb4fee74"
   },
   "outputs": [
    {
     "name": "stdout",
     "output_type": "stream",
     "text": [
      "Confusion Matrix:\n",
      "[[105   1]\n",
      " [ 18   1]]\n",
      "Classification Report:\n",
      "               precision    recall  f1-score   support\n",
      "\n",
      "           0       0.85      0.99      0.92       106\n",
      "           1       0.50      0.05      0.10        19\n",
      "\n",
      "    accuracy                           0.85       125\n",
      "   macro avg       0.68      0.52      0.51       125\n",
      "weighted avg       0.80      0.85      0.79       125\n",
      "\n",
      "Accuracy: 0.848\n"
     ]
    }
   ],
   "source": [
    "from sklearn.metrics import confusion_matrix, accuracy_score,classification_report,precision_recall_fscore_support\n",
    "cm = confusion_matrix(y_test, y_pred2)\n",
    "print(\"Confusion Matrix:\")\n",
    "print(cm)\n",
    "\n",
    "result2 = classification_report(y_test, y_pred2)\n",
    "print(\"Classification Report:\\n\",result2)\n",
    "\n",
    "a2=accuracy_score(y_test, y_pred2)\n",
    "print(\"Accuracy:\",a2)"
   ]
  },
  {
   "cell_type": "markdown",
   "metadata": {
    "id": "SYZO7fKG0cyp"
   },
   "source": [
    "#### **Applying cross validation**"
   ]
  },
  {
   "cell_type": "code",
   "execution_count": null,
   "metadata": {
    "colab": {
     "base_uri": "https://localhost:8080/"
    },
    "id": "zisvGDrx0f6y",
    "outputId": "62b861af-eaa9-4c96-fa9d-db97f5a0ac91"
   },
   "outputs": [
    {
     "name": "stdout",
     "output_type": "stream",
     "text": [
      "Accuracy: 81.71 %\n",
      "Standard Deviation: 9.84 %\n"
     ]
    }
   ],
   "source": [
    "from sklearn.model_selection import cross_val_score\n",
    "accuracies = cross_val_score(estimator = classifier2 ,X=X_train, y=y_train,cv = 50)\n",
    "print(\"Accuracy: {:.2f} %\".format(accuracies.mean()*100))\n",
    "print(\"Standard Deviation: {:.2f} %\".format(accuracies.std()*100))"
   ]
  },
  {
   "cell_type": "markdown",
   "metadata": {
    "id": "X_I_R7-wREaJ"
   },
   "source": [
    "**Feature importance graph**"
   ]
  },
  {
   "cell_type": "code",
   "execution_count": null,
   "metadata": {
    "colab": {
     "base_uri": "https://localhost:8080/",
     "height": 428
    },
    "id": "TxVn6Cm7RNV-",
    "outputId": "3208eef5-34f7-4093-cae8-3e589551328d"
   },
   "outputs": [
    {
     "name": "stdout",
     "output_type": "stream",
     "text": [
      "Feature: 0, Score: 0.01973\n",
      "Feature: 1, Score: 0.01440\n",
      "Feature: 2, Score: -0.00160\n",
      "Feature: 3, Score: 0.01600\n",
      "Feature: 4, Score: -0.00693\n",
      "Feature: 5, Score: 0.03573\n",
      "Feature: 6, Score: -0.00693\n",
      "Feature: 7, Score: 0.02720\n",
      "Feature: 8, Score: 0.01920\n"
     ]
    },
    {
     "data": {
      "image/png": "[encoded data removed]",
      "text/plain": [
       "<Figure size 432x288 with 1 Axes>"
      ]
     },
     "metadata": {
      "needs_background": "light",
      "tags": []
     },
     "output_type": "display_data"
    }
   ],
   "source": [
    "from sklearn.datasets import make_classification\n",
    "from sklearn.inspection import permutation_importance\n",
    "from matplotlib import pyplot\n",
    "results = permutation_importance(classifier2, X_train, y_train, scoring='accuracy')\n",
    "# get importance\n",
    "importance = results.importances_mean\n",
    "# summarize feature importance\n",
    "for i,v in enumerate(importance):\n",
    "\tprint('Feature: %0d, Score: %.5f' % (i,v))\n",
    "# plot feature importance\n",
    "pyplot.bar([x for x in range(len(importance))], importance)\n",
    "pyplot.show()"
   ]
  },
  {
   "cell_type": "markdown",
   "metadata": {
    "id": "j8OChNYdBemz"
   },
   "source": [
    "### **3.SVM**"
   ]
  },
  {
   "cell_type": "code",
   "execution_count": null,
   "metadata": {
    "colab": {
     "base_uri": "https://localhost:8080/"
    },
    "id": "s87lqlQveqqT",
    "outputId": "c655b01d-817e-4187-9d09-56f96387914b"
   },
   "outputs": [
    {
     "data": {
      "text/plain": [
       "SVC(C=1.0, break_ties=False, cache_size=200, class_weight=None, coef0=0.0,\n",
       "    decision_function_shape='ovr', degree=3, gamma='scale', kernel='linear',\n",
       "    max_iter=-1, probability=False, random_state=0, shrinking=True, tol=0.001,\n",
       "    verbose=False)"
      ]
     },
     "execution_count": 211,
     "metadata": {
      "tags": []
     },
     "output_type": "execute_result"
    }
   ],
   "source": [
    "from sklearn.svm import SVC\n",
    "classifier3 = SVC(kernel = \"linear\",random_state = 0)\n",
    "classifier3.fit(X_train, y_train)"
   ]
  },
  {
   "cell_type": "markdown",
   "metadata": {
    "id": "XxDJ1JDBgBzn"
   },
   "source": [
    " **Predicting the Test set results**"
   ]
  },
  {
   "cell_type": "code",
   "execution_count": null,
   "metadata": {
    "colab": {
     "base_uri": "https://localhost:8080/"
    },
    "id": "Nn7S63N7fLYC",
    "outputId": "b61e21ec-d680-478d-bb45-fec473fa7677"
   },
   "outputs": [
    {
     "name": "stdout",
     "output_type": "stream",
     "text": [
      "[0 0 0 0 0 0 0 0 0 0 0 0 0 0 0 0 0 0 0 0 0 0 0 0 0 0 0 0 0 0 0 0 0 0 0 0 0\n",
      " 0 0 0 0 0 0 0 0 0 0 0 0 0 0 0 0 0 0 0 0 0 0 0 0 0 0 0 0 0 0 0 0 0 0 0 0 0\n",
      " 0 0 0 0 0 0 0 0 0 0 0 0 0 0 0 0 0 0 0 0 0 0 0 0 0 0 0 0 0 0 0 0 0 0 0 0 0\n",
      " 0 0 0 0 0 0 0 0 0 0 0 0 0 0]\n"
     ]
    }
   ],
   "source": [
    "y_pred3 = classifier3.predict(X_test)\n",
    "print(y_pred3)"
   ]
  },
  {
   "cell_type": "markdown",
   "metadata": {
    "id": "m3CWp4ILgEul"
   },
   "source": [
    "**Making the Confusion Matrix**"
   ]
  },
  {
   "cell_type": "code",
   "execution_count": null,
   "metadata": {
    "colab": {
     "base_uri": "https://localhost:8080/"
    },
    "id": "M2HPmpb5b5Rv",
    "outputId": "5106a3f7-2303-42a1-dd24-ce4b187ffce0"
   },
   "outputs": [
    {
     "name": "stdout",
     "output_type": "stream",
     "text": [
      "Confusion Matrix:\n",
      "[[106   0]\n",
      " [ 19   0]]\n",
      "Classification Report:\n",
      "               precision    recall  f1-score   support\n",
      "\n",
      "           0       0.85      1.00      0.92       106\n",
      "           1       0.00      0.00      0.00        19\n",
      "\n",
      "    accuracy                           0.85       125\n",
      "   macro avg       0.42      0.50      0.46       125\n",
      "weighted avg       0.72      0.85      0.78       125\n",
      "\n",
      "Accuracy: 0.848\n"
     ]
    },
    {
     "name": "stderr",
     "output_type": "stream",
     "text": [
      "/usr/local/lib/python3.7/dist-packages/sklearn/metrics/_classification.py:1272: UndefinedMetricWarning: Precision and F-score are ill-defined and being set to 0.0 in labels with no predicted samples. Use `zero_division` parameter to control this behavior.\n",
      "  _warn_prf(average, modifier, msg_start, len(result))\n"
     ]
    }
   ],
   "source": [
    "from sklearn.metrics import confusion_matrix, accuracy_score,classification_report,precision_recall_fscore_support\n",
    "cm = confusion_matrix(y_test, y_pred3)\n",
    "print(\"Confusion Matrix:\")\n",
    "print(cm)\n",
    "\n",
    "result3 = classification_report(y_test, y_pred3)\n",
    "print(\"Classification Report:\\n\",result3)\n",
    "\n",
    "a3=accuracy_score(y_test, y_pred3)\n",
    "print(\"Accuracy:\",a3)"
   ]
  },
  {
   "cell_type": "markdown",
   "metadata": {
    "id": "thpWDp8C00P3"
   },
   "source": [
    "**Applying cross validation**"
   ]
  },
  {
   "cell_type": "code",
   "execution_count": null,
   "metadata": {
    "colab": {
     "base_uri": "https://localhost:8080/"
    },
    "id": "kPI6Lzgx0isn",
    "outputId": "cae9b54c-7f12-400d-e577-0a9eb28c879a"
   },
   "outputs": [
    {
     "name": "stdout",
     "output_type": "stream",
     "text": [
      "Accuracy: 80.36 %\n",
      "Standard Deviation: 5.36 %\n"
     ]
    }
   ],
   "source": [
    "from sklearn.model_selection import cross_val_score\n",
    "accuracies = cross_val_score(estimator = classifier3 ,X=X_train, y=y_train,cv = 50)\n",
    "print(\"Accuracy: {:.2f} %\".format(accuracies.mean()*100))\n",
    "print(\"Standard Deviation: {:.2f} %\".format(accuracies.std()*100))"
   ]
  },
  {
   "cell_type": "markdown",
   "metadata": {
    "id": "ok4PR0EKUMsp"
   },
   "source": [
    "**Feature importance graph**"
   ]
  },
  {
   "cell_type": "code",
   "execution_count": null,
   "metadata": {
    "colab": {
     "base_uri": "https://localhost:8080/",
     "height": 428
    },
    "id": "9F3u6PX4UNoP",
    "outputId": "dab9bb66-659a-4487-9e48-e460b433286e"
   },
   "outputs": [
    {
     "name": "stdout",
     "output_type": "stream",
     "text": [
      "Feature: 0, Score: -0.00005\n",
      "Feature: 1, Score: 0.00011\n",
      "Feature: 2, Score: -0.00001\n",
      "Feature: 3, Score: -0.00007\n",
      "Feature: 4, Score: -0.00004\n",
      "Feature: 5, Score: 0.00001\n",
      "Feature: 6, Score: -0.00004\n",
      "Feature: 7, Score: -0.00001\n",
      "Feature: 8, Score: 0.00005\n"
     ]
    },
    {
     "data": {
      "image/png": "[encoded data removed]",
      "text/plain": [
       "<Figure size 432x288 with 1 Axes>"
      ]
     },
     "metadata": {
      "needs_background": "light",
      "tags": []
     },
     "output_type": "display_data"
    }
   ],
   "source": [
    "from sklearn.datasets import make_classification\n",
    "from matplotlib import pyplot\n",
    "# get importance\n",
    "importance = classifier3.coef_[0]\n",
    "# summarize feature importance\n",
    "for i,v in enumerate(importance):\n",
    "\tprint('Feature: %0d, Score: %.5f' % (i,v))\n",
    "# plot feature importance\n",
    "pyplot.bar([x for x in range(len(importance))], importance)\n",
    "pyplot.show()"
   ]
  },
  {
   "cell_type": "markdown",
   "metadata": {
    "id": "z2iiKTFiECv0"
   },
   "source": [
    "### **4.Decision Tree**"
   ]
  },
  {
   "cell_type": "code",
   "execution_count": null,
   "metadata": {
    "colab": {
     "base_uri": "https://localhost:8080/"
    },
    "id": "FHp6NmEhECwD",
    "outputId": "7020ac86-abb2-47af-96bd-436516173860"
   },
   "outputs": [
    {
     "data": {
      "text/plain": [
       "DecisionTreeClassifier(ccp_alpha=0.0, class_weight=None, criterion='entropy',\n",
       "                       max_depth=None, max_features=None, max_leaf_nodes=None,\n",
       "                       min_impurity_decrease=0.0, min_impurity_split=None,\n",
       "                       min_samples_leaf=1, min_samples_split=2,\n",
       "                       min_weight_fraction_leaf=0.0, presort='deprecated',\n",
       "                       random_state=0, splitter='best')"
      ]
     },
     "execution_count": 247,
     "metadata": {
      "tags": []
     },
     "output_type": "execute_result"
    }
   ],
   "source": [
    "from sklearn.tree import DecisionTreeClassifier\n",
    "classifier4 = DecisionTreeClassifier(criterion = 'entropy', random_state = 0)\n",
    "classifier4.fit(X_train, y_train)"
   ]
  },
  {
   "cell_type": "markdown",
   "metadata": {
    "id": "B2lAxzXIECwF"
   },
   "source": [
    " **Predicting the Test set results**"
   ]
  },
  {
   "cell_type": "code",
   "execution_count": null,
   "metadata": {
    "colab": {
     "base_uri": "https://localhost:8080/"
    },
    "id": "OY2KvSoBECwG",
    "outputId": "4e43e7d2-4c0e-4465-ce54-a83b66a12dc7"
   },
   "outputs": [
    {
     "name": "stdout",
     "output_type": "stream",
     "text": [
      "[0 0 0 0 1 0 0 0 0 0 0 0 1 0 0 0 0 0 0 0 0 0 0 0 0 0 0 0 0 0 0 0 1 0 1 0 0\n",
      " 1 1 0 0 0 0 0 0 0 0 0 0 0 0 0 0 0 0 0 0 0 0 0 0 0 1 0 0 1 0 0 0 0 0 0 0 0\n",
      " 0 0 0 0 0 0 0 0 0 1 0 0 0 0 1 0 1 1 0 0 0 1 0 0 0 0 1 0 1 0 0 0 0 0 0 1 0\n",
      " 0 1 0 1 0 1 0 0 0 0 0 0 0 0]\n"
     ]
    }
   ],
   "source": [
    "y_pred4 = classifier4.predict(X_test)\n",
    "print(y_pred4)"
   ]
  },
  {
   "cell_type": "markdown",
   "metadata": {
    "id": "FFokUelAECwG"
   },
   "source": [
    "**Making the Confusion Matrix**"
   ]
  },
  {
   "cell_type": "code",
   "execution_count": null,
   "metadata": {
    "colab": {
     "base_uri": "https://localhost:8080/"
    },
    "id": "Sj-Xv4Y6cbrO",
    "outputId": "0db30754-9469-4a39-f967-fcef57777ecc"
   },
   "outputs": [
    {
     "name": "stdout",
     "output_type": "stream",
     "text": [
      "Confusion Matrix:\n",
      "[[90 16]\n",
      " [16  3]]\n",
      "Classification Report:\n",
      "               precision    recall  f1-score   support\n",
      "\n",
      "           0       0.85      0.85      0.85       106\n",
      "           1       0.16      0.16      0.16        19\n",
      "\n",
      "    accuracy                           0.74       125\n",
      "   macro avg       0.50      0.50      0.50       125\n",
      "weighted avg       0.74      0.74      0.74       125\n",
      "\n",
      "Accuracy: 0.744\n"
     ]
    }
   ],
   "source": [
    "from sklearn.metrics import confusion_matrix, accuracy_score,classification_report,precision_recall_fscore_support\n",
    "cm = confusion_matrix(y_test, y_pred4)\n",
    "print(\"Confusion Matrix:\")\n",
    "print(cm)\n",
    "\n",
    "result4 = classification_report(y_test, y_pred4)\n",
    "print(\"Classification Report:\\n\",result4)\n",
    "\n",
    "a4=accuracy_score(y_test, y_pred4)\n",
    "print(\"Accuracy:\",a4)"
   ]
  },
  {
   "cell_type": "markdown",
   "metadata": {
    "id": "OJxQJKWN03Ph"
   },
   "source": [
    "**Applying cross validation**"
   ]
  },
  {
   "cell_type": "code",
   "execution_count": null,
   "metadata": {
    "colab": {
     "base_uri": "https://localhost:8080/"
    },
    "id": "kkjXPh-Z0j1B",
    "outputId": "34450d68-21f3-4662-e3eb-2e0793b4b9a3"
   },
   "outputs": [
    {
     "name": "stdout",
     "output_type": "stream",
     "text": [
      "Accuracy: 83.11 %\n",
      "Standard Deviation: 9.91 %\n"
     ]
    }
   ],
   "source": [
    "from sklearn.model_selection import cross_val_score\n",
    "accuracies = cross_val_score(estimator = classifier4 ,X=X_train, y=y_train,cv = 50)\n",
    "print(\"Accuracy: {:.2f} %\".format(accuracies.mean()*100))\n",
    "print(\"Standard Deviation: {:.2f} %\".format(accuracies.std()*100))"
   ]
  },
  {
   "cell_type": "markdown",
   "metadata": {
    "id": "8LEvSSrbUte-"
   },
   "source": [
    "**Feature importance graph**"
   ]
  },
  {
   "cell_type": "code",
   "execution_count": null,
   "metadata": {
    "colab": {
     "base_uri": "https://localhost:8080/",
     "height": 428
    },
    "id": "L7X26iUJLrFh",
    "outputId": "4abde3c9-f1f2-4650-ed94-de3c849a6889"
   },
   "outputs": [
    {
     "name": "stdout",
     "output_type": "stream",
     "text": [
      "Feature: 0, Score: 0.06842\n",
      "Feature: 1, Score: 0.30669\n",
      "Feature: 2, Score: 0.06962\n",
      "Feature: 3, Score: 0.09937\n",
      "Feature: 4, Score: 0.04530\n",
      "Feature: 5, Score: 0.07616\n",
      "Feature: 6, Score: 0.01472\n",
      "Feature: 7, Score: 0.20630\n",
      "Feature: 8, Score: 0.11341\n"
     ]
    },
    {
     "data": {
      "image/png": "[encoded data removed]",
      "text/plain": [
       "<Figure size 432x288 with 1 Axes>"
      ]
     },
     "metadata": {
      "needs_background": "light",
      "tags": []
     },
     "output_type": "display_data"
    }
   ],
   "source": [
    "from sklearn.datasets import make_classification\n",
    "from matplotlib import pyplot\n",
    "importance = classifier4.feature_importances_\n",
    "#summarize feature importance\n",
    "for i,v in enumerate(importance):\n",
    "\tprint('Feature: %0d, Score: %.5f' % (i,v))\n",
    "# plot feature importance\n",
    "pyplot.bar([x for x in range(len(importance))], importance)\n",
    "pyplot.show()\n",
    "\n"
   ]
  },
  {
   "cell_type": "markdown",
   "metadata": {
    "id": "sQ8rbGYeNt0j"
   },
   "source": [
    "### **5.Random Forest**"
   ]
  },
  {
   "cell_type": "code",
   "execution_count": null,
   "metadata": {
    "colab": {
     "base_uri": "https://localhost:8080/"
    },
    "id": "x2pE1ZyiNt00",
    "outputId": "25d86221-a559-46fa-93a0-2e6b074d5e08"
   },
   "outputs": [
    {
     "data": {
      "text/plain": [
       "RandomForestClassifier(bootstrap=True, ccp_alpha=0.0, class_weight=None,\n",
       "                       criterion='entropy', max_depth=None, max_features='auto',\n",
       "                       max_leaf_nodes=None, max_samples=None,\n",
       "                       min_impurity_decrease=0.0, min_impurity_split=None,\n",
       "                       min_samples_leaf=1, min_samples_split=2,\n",
       "                       min_weight_fraction_leaf=0.0, n_estimators=100,\n",
       "                       n_jobs=None, oob_score=False, random_state=0, verbose=0,\n",
       "                       warm_start=False)"
      ]
     },
     "execution_count": 250,
     "metadata": {
      "tags": []
     },
     "output_type": "execute_result"
    }
   ],
   "source": [
    "from sklearn.ensemble import RandomForestClassifier\n",
    "classifier5 = RandomForestClassifier(n_estimators = 100, criterion = 'entropy', random_state = 0)\n",
    "classifier5.fit(X_train, y_train)"
   ]
  },
  {
   "cell_type": "markdown",
   "metadata": {
    "id": "pTMm6tjrgreF"
   },
   "source": [
    " **Predicting the Test set results**"
   ]
  },
  {
   "cell_type": "code",
   "execution_count": null,
   "metadata": {
    "colab": {
     "base_uri": "https://localhost:8080/"
    },
    "id": "Vp4BifNONt06",
    "outputId": "2d4e5106-9942-4315-ac7a-a5f3e6ef58b5"
   },
   "outputs": [
    {
     "name": "stdout",
     "output_type": "stream",
     "text": [
      "[0 1 0 0 0 0 0 0 0 0 0 0 1 0 0 0 0 0 0 0 0 0 0 0 0 0 0 0 0 0 0 0 0 0 1 0 0\n",
      " 0 1 0 0 0 0 0 0 0 0 0 0 0 0 0 0 0 0 0 0 0 0 0 0 0 0 0 0 0 0 0 0 0 0 0 0 0\n",
      " 0 0 0 0 0 0 0 0 0 1 0 0 0 0 0 0 1 1 0 0 0 1 0 0 0 0 0 0 0 0 0 0 0 0 0 1 0\n",
      " 0 0 0 0 0 1 0 0 0 0 0 0 0 0]\n"
     ]
    }
   ],
   "source": [
    "y_pred5 = classifier5.predict(X_test)\n",
    "print(y_pred5)"
   ]
  },
  {
   "cell_type": "markdown",
   "metadata": {
    "id": "sKPSuP82gobz"
   },
   "source": [
    "**Making the Confusion Matrix**"
   ]
  },
  {
   "cell_type": "code",
   "execution_count": null,
   "metadata": {
    "colab": {
     "base_uri": "https://localhost:8080/"
    },
    "id": "qF1c1347cz2k",
    "outputId": "7cbe97e3-388d-4521-b83c-521fca0a6739"
   },
   "outputs": [
    {
     "name": "stdout",
     "output_type": "stream",
     "text": [
      "Confusion Matrix:\n",
      "[[99  7]\n",
      " [16  3]]\n",
      "Classification Report:\n",
      "               precision    recall  f1-score   support\n",
      "\n",
      "           0       0.86      0.93      0.90       106\n",
      "           1       0.30      0.16      0.21        19\n",
      "\n",
      "    accuracy                           0.82       125\n",
      "   macro avg       0.58      0.55      0.55       125\n",
      "weighted avg       0.78      0.82      0.79       125\n",
      "\n",
      "Accuracy: 0.816\n"
     ]
    }
   ],
   "source": [
    "from sklearn.metrics import confusion_matrix, accuracy_score,classification_report,precision_recall_fscore_support\n",
    "cm = confusion_matrix(y_test, y_pred5)\n",
    "print(\"Confusion Matrix:\")\n",
    "print(cm)\n",
    "\n",
    "result5 = classification_report(y_test, y_pred5)\n",
    "print(\"Classification Report:\\n\",result5)\n",
    "\n",
    "a5=accuracy_score(y_test, y_pred5)\n",
    "print(\"Accuracy:\",a5)"
   ]
  },
  {
   "cell_type": "markdown",
   "metadata": {
    "id": "gs9J8Uk205sT"
   },
   "source": [
    "**Applying cross validation**"
   ]
  },
  {
   "cell_type": "code",
   "execution_count": null,
   "metadata": {
    "colab": {
     "base_uri": "https://localhost:8080/"
    },
    "id": "14ssT4kr0lGi",
    "outputId": "789bc762-86c7-491d-eed8-5c7b5fc8c4ca"
   },
   "outputs": [
    {
     "name": "stdout",
     "output_type": "stream",
     "text": [
      "Accuracy: 84.82 %\n",
      "Standard Deviation: 9.89 %\n"
     ]
    }
   ],
   "source": [
    "from sklearn.model_selection import cross_val_score\n",
    "accuracies = cross_val_score(estimator = classifier5 ,X=X_train, y=y_train,cv = 50)\n",
    "print(\"Accuracy: {:.2f} %\".format(accuracies.mean()*100))\n",
    "print(\"Standard Deviation: {:.2f} %\".format(accuracies.std()*100))"
   ]
  },
  {
   "cell_type": "markdown",
   "metadata": {
    "id": "fRA8l9JgQbD4"
   },
   "source": [
    "**Feature importance graph**"
   ]
  },
  {
   "cell_type": "code",
   "execution_count": null,
   "metadata": {
    "colab": {
     "base_uri": "https://localhost:8080/",
     "height": 428
    },
    "id": "bMA4d6VKMpFR",
    "outputId": "2faa4447-ce95-4e9c-efda-8c252cb55424"
   },
   "outputs": [
    {
     "name": "stdout",
     "output_type": "stream",
     "text": [
      "Feature: 0, Score: 0.06954\n",
      "Feature: 1, Score: 0.30021\n",
      "Feature: 2, Score: 0.06889\n",
      "Feature: 3, Score: 0.09534\n",
      "Feature: 4, Score: 0.03086\n",
      "Feature: 5, Score: 0.09664\n",
      "Feature: 6, Score: 0.03469\n",
      "Feature: 7, Score: 0.16746\n",
      "Feature: 8, Score: 0.13638\n"
     ]
    },
    {
     "data": {
      "image/png": "[encoded data removed]",
      "text/plain": [
       "<Figure size 432x288 with 1 Axes>"
      ]
     },
     "metadata": {
      "needs_background": "light",
      "tags": []
     },
     "output_type": "display_data"
    }
   ],
   "source": [
    "from sklearn.datasets import make_classification\n",
    "from matplotlib import pyplot\n",
    "# get importance\n",
    "importance = classifier5.feature_importances_\n",
    "# summarize feature importance\n",
    "for i,v in enumerate(importance):\n",
    "\tprint('Feature: %0d, Score: %.5f' % (i,v))\n",
    "# plot feature importance\n",
    "pyplot.bar([x for x in range(len(importance))], importance)\n",
    "pyplot.show()"
   ]
  },
  {
   "cell_type": "markdown",
   "metadata": {
    "id": "7sAN5ljNQnbU"
   },
   "source": [
    "### **6.Naive Bayes Classifier**"
   ]
  },
  {
   "cell_type": "code",
   "execution_count": null,
   "metadata": {
    "colab": {
     "base_uri": "https://localhost:8080/"
    },
    "id": "OKeZiqIxQnbW",
    "outputId": "6bde3867-1c7f-405d-f94b-b3f2fa964f5e"
   },
   "outputs": [
    {
     "data": {
      "text/plain": [
       "GaussianNB(priors=None, var_smoothing=1e-09)"
      ]
     },
     "execution_count": 223,
     "metadata": {
      "tags": []
     },
     "output_type": "execute_result"
    }
   ],
   "source": [
    "from sklearn.naive_bayes import GaussianNB\n",
    "classifier6 = GaussianNB()\n",
    "classifier6.fit(X_train, y_train)"
   ]
  },
  {
   "cell_type": "markdown",
   "metadata": {
    "id": "HoaTQ1V8QnbY"
   },
   "source": [
    "**Predicting** **the** **Test** **set** **results**"
   ]
  },
  {
   "cell_type": "code",
   "execution_count": null,
   "metadata": {
    "colab": {
     "base_uri": "https://localhost:8080/"
    },
    "id": "hbf-9y5gQnbZ",
    "outputId": "1e553110-3e12-435d-9eda-a792e24ac2bf"
   },
   "outputs": [
    {
     "name": "stdout",
     "output_type": "stream",
     "text": [
      "[0 0 0 0 0 0 0 0 0 0 0 0 0 0 0 0 0 0 0 0 0 0 0 1 0 0 0 0 0 0 0 0 0 0 1 1 0\n",
      " 0 0 0 0 0 0 0 0 1 0 0 0 0 1 0 0 0 0 0 0 1 0 0 0 0 1 1 0 0 0 0 0 0 0 0 1 0\n",
      " 1 0 0 0 0 0 0 0 0 1 0 0 1 0 0 0 0 0 0 1 1 1 0 0 0 1 1 0 0 0 0 0 0 0 0 1 0\n",
      " 0 0 0 1 0 1 0 0 0 0 0 0 0 0]\n"
     ]
    }
   ],
   "source": [
    "y_pred6 = classifier6.predict(X_test)\n",
    "print(y_pred6)"
   ]
  },
  {
   "cell_type": "markdown",
   "metadata": {
    "id": "M4AUDbslQvS4"
   },
   "source": [
    "**Making the Confusion Matrix**"
   ]
  },
  {
   "cell_type": "code",
   "execution_count": null,
   "metadata": {
    "colab": {
     "base_uri": "https://localhost:8080/"
    },
    "id": "QGuTk7SHc-bg",
    "outputId": "e14c3d35-ab66-4c32-dff7-d6a37f2e552d"
   },
   "outputs": [
    {
     "name": "stdout",
     "output_type": "stream",
     "text": [
      "Confusion Matrix:\n",
      "[[91 15]\n",
      " [14  5]]\n",
      "Classification Report:\n",
      "               precision    recall  f1-score   support\n",
      "\n",
      "           0       0.87      0.86      0.86       106\n",
      "           1       0.25      0.26      0.26        19\n",
      "\n",
      "    accuracy                           0.77       125\n",
      "   macro avg       0.56      0.56      0.56       125\n",
      "weighted avg       0.77      0.77      0.77       125\n",
      "\n",
      "Accuracy: 0.768\n"
     ]
    }
   ],
   "source": [
    "from sklearn.metrics import confusion_matrix, accuracy_score,classification_report,precision_recall_fscore_support\n",
    "cm = confusion_matrix(y_test, y_pred6)\n",
    "print(\"Confusion Matrix:\")\n",
    "print(cm)\n",
    "\n",
    "result6 = classification_report(y_test, y_pred6)\n",
    "print(\"Classification Report:\\n\",result6)\n",
    "\n",
    "a6=accuracy_score(y_test, y_pred6)\n",
    "print(\"Accuracy:\",a6)"
   ]
  },
  {
   "cell_type": "markdown",
   "metadata": {
    "id": "DJh0Wmfy075l"
   },
   "source": [
    "**Applying cross validation**"
   ]
  },
  {
   "cell_type": "code",
   "execution_count": null,
   "metadata": {
    "colab": {
     "base_uri": "https://localhost:8080/"
    },
    "id": "dNU7bwaW0mI-",
    "outputId": "79b37898-a81d-4e28-eb95-dab11c53aca0"
   },
   "outputs": [
    {
     "name": "stdout",
     "output_type": "stream",
     "text": [
      "Accuracy: 83.46 %\n",
      "Standard Deviation: 10.71 %\n"
     ]
    }
   ],
   "source": [
    "from sklearn.model_selection import cross_val_score\n",
    "accuracies = cross_val_score(estimator = classifier6 ,X=X_train, y=y_train,cv = 50)\n",
    "print(\"Accuracy: {:.2f} %\".format(accuracies.mean()*100))\n",
    "print(\"Standard Deviation: {:.2f} %\".format(accuracies.std()*100))"
   ]
  },
  {
   "cell_type": "markdown",
   "metadata": {
    "id": "k9GzSVkvP_Gs"
   },
   "source": [
    "### **7.XGBoost**"
   ]
  },
  {
   "cell_type": "code",
   "execution_count": null,
   "metadata": {
    "colab": {
     "base_uri": "https://localhost:8080/"
    },
    "id": "qS7ywV-gOiWn",
    "outputId": "91c8c08d-40c8-4f3e-e8b7-8ef9e02e5f7b"
   },
   "outputs": [
    {
     "data": {
      "text/plain": [
       "XGBClassifier(base_score=0.5, booster='gbtree', colsample_bylevel=1,\n",
       "              colsample_bynode=1, colsample_bytree=1, gamma=0,\n",
       "              learning_rate=0.1, max_delta_step=0, max_depth=3,\n",
       "              min_child_weight=1, missing=None, n_estimators=100, n_jobs=1,\n",
       "              nthread=None, objective='binary:logistic', random_state=0,\n",
       "              reg_alpha=0, reg_lambda=1, scale_pos_weight=1, seed=None,\n",
       "              silent=None, subsample=1, verbosity=1)"
      ]
     },
     "execution_count": 253,
     "metadata": {
      "tags": []
     },
     "output_type": "execute_result"
    }
   ],
   "source": [
    "from sklearn.datasets import make_classification\n",
    "classifier7 = XGBClassifier()\n",
    "classifier7.fit(X_train, y_train)"
   ]
  },
  {
   "cell_type": "markdown",
   "metadata": {
    "id": "3JqlU3yWPmyK"
   },
   "source": [
    "**Predicting** **the** **Test** **set** **results**"
   ]
  },
  {
   "cell_type": "code",
   "execution_count": null,
   "metadata": {
    "colab": {
     "base_uri": "https://localhost:8080/"
    },
    "id": "AXEba46dO2HK",
    "outputId": "d3479e68-f1c4-470e-a26a-9d5cf5e09f0c"
   },
   "outputs": [
    {
     "name": "stdout",
     "output_type": "stream",
     "text": [
      "[0 0 0 0 0 0 0 0 0 0 0 0 0 0 0 0 0 0 0 0 0 0 0 0 0 0 0 0 0 0 0 0 0 0 1 0 0\n",
      " 0 1 0 0 0 0 0 0 0 0 0 0 0 0 0 0 0 0 0 0 1 0 0 0 0 1 0 0 0 0 0 0 0 0 0 0 0\n",
      " 1 0 0 0 0 0 0 0 0 1 0 0 0 0 0 0 0 1 0 1 1 1 0 0 0 1 1 0 0 0 0 0 0 0 0 0 0\n",
      " 0 0 0 1 0 1 0 0 0 0 0 0 0 0]\n"
     ]
    }
   ],
   "source": [
    "y_pred7 = classifier7.predict(X_test)\n",
    "print(y_pred7)"
   ]
  },
  {
   "cell_type": "markdown",
   "metadata": {
    "id": "LgNev50OPqZ-"
   },
   "source": [
    "**Making the Confusion Matrix**"
   ]
  },
  {
   "cell_type": "code",
   "execution_count": null,
   "metadata": {
    "colab": {
     "base_uri": "https://localhost:8080/"
    },
    "id": "qCGzzV_oO98T",
    "outputId": "2d76d1a3-292a-4b48-9af7-f75d5ebca437"
   },
   "outputs": [
    {
     "name": "stdout",
     "output_type": "stream",
     "text": [
      "Confusion Matrix:\n",
      "[[95 11]\n",
      " [16  3]]\n",
      "Classification Report:\n",
      "               precision    recall  f1-score   support\n",
      "\n",
      "           0       0.86      0.90      0.88       106\n",
      "           1       0.21      0.16      0.18        19\n",
      "\n",
      "    accuracy                           0.78       125\n",
      "   macro avg       0.54      0.53      0.53       125\n",
      "weighted avg       0.76      0.78      0.77       125\n",
      "\n",
      "Accuracy: 0.784\n"
     ]
    }
   ],
   "source": [
    "from sklearn.metrics import confusion_matrix, accuracy_score,classification_report,precision_recall_fscore_support\n",
    "cm = confusion_matrix(y_test, y_pred7)\n",
    "print(\"Confusion Matrix:\")\n",
    "print(cm)\n",
    "\n",
    "result7 = classification_report(y_test, y_pred7)\n",
    "print(\"Classification Report:\\n\",result7)\n",
    "\n",
    "a7=accuracy_score(y_test, y_pred7)\n",
    "print(\"Accuracy:\",a7)"
   ]
  },
  {
   "cell_type": "markdown",
   "metadata": {
    "id": "wyHRSRnPPw4K"
   },
   "source": [
    "**Applying cross validation**"
   ]
  },
  {
   "cell_type": "code",
   "execution_count": null,
   "metadata": {
    "colab": {
     "base_uri": "https://localhost:8080/"
    },
    "id": "SxaQ8gQtP1qG",
    "outputId": "c47ef97f-f606-4fff-8a4a-a29a8fcbef9c"
   },
   "outputs": [
    {
     "name": "stdout",
     "output_type": "stream",
     "text": [
      "Accuracy: 83.46 %\n",
      "Standard Deviation: 10.71 %\n"
     ]
    }
   ],
   "source": [
    "from sklearn.model_selection import cross_val_score\n",
    "accuracies = cross_val_score(estimator = classifier7 ,X=X_train, y=y_train,cv = 50)\n",
    "print(\"Accuracy: {:.2f} %\".format(accuracies.mean()*100))\n",
    "print(\"Standard Deviation: {:.2f} %\".format(accuracies.std()*100))"
   ]
  },
  {
   "cell_type": "markdown",
   "metadata": {
    "id": "aPpJ3vi5PSLw"
   },
   "source": [
    " **Feature importance graph**"
   ]
  },
  {
   "cell_type": "code",
   "execution_count": null,
   "metadata": {
    "colab": {
     "base_uri": "https://localhost:8080/",
     "height": 432
    },
    "id": "KMcKc4M_NLbK",
    "outputId": "f6f26675-61b6-4be1-cec7-f8606f8efdd0"
   },
   "outputs": [
    {
     "name": "stdout",
     "output_type": "stream",
     "text": [
      "Feature: 0, Score: 0.08199\n",
      "Feature: 1, Score: 0.07030\n",
      "Feature: 2, Score: 0.05848\n",
      "Feature: 3, Score: 0.09614\n",
      "Feature: 4, Score: 0.05520\n",
      "Feature: 5, Score: 0.12905\n",
      "Feature: 6, Score: 0.00000\n",
      "Feature: 7, Score: 0.38320\n",
      "Feature: 8, Score: 0.12564\n"
     ]
    },
    {
     "data": {
      "image/png": "[encoded data removed]",
      "text/plain": [
       "<Figure size 432x288 with 1 Axes>"
      ]
     },
     "metadata": {
      "needs_background": "light",
      "tags": []
     },
     "output_type": "display_data"
    }
   ],
   "source": [
    "from xgboost import XGBClassifier\n",
    "from matplotlib import pyplot\n",
    "# get importance\n",
    "importance = classifier7.feature_importances_\n",
    "# summarize feature importance\n",
    "for i,v in enumerate(importance):\n",
    "\tprint('Feature: %0d, Score: %.5f' % (i,v))\n",
    "# plot feature importance\n",
    "pyplot.bar([x for x in range(len(importance))], importance)\n",
    "pyplot.show()"
   ]
  }
 ],
 "metadata": {
  "colab": {
   "collapsed_sections": [],
   "name": "Project_Work.ipynb",
   "provenance": []
  },
  "kernelspec": {
   "display_name": "Python 3",
   "language": "python",
   "name": "python3"
  },
  "language_info": {
   "codemirror_mode": {
    "name": "ipython",
    "version": 3
   },
   "file_extension": ".py",
   "mimetype": "text/x-python",
   "name": "python",
   "nbconvert_exporter": "python",
   "pygments_lexer": "ipython3",
   "version": "3.8.5"
  }
 },
 "nbformat": 4,
 "nbformat_minor": 1
}
